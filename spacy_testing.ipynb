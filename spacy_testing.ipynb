{
  "nbformat": 4,
  "nbformat_minor": 0,
  "metadata": {
    "kernelspec": {
      "name": "python3",
      "display_name": "Python 3"
    },
    "language_info": {
      "codemirror_mode": {
        "name": "ipython",
        "version": 3
      },
      "file_extension": ".py",
      "mimetype": "text/x-python",
      "name": "python",
      "nbconvert_exporter": "python",
      "pygments_lexer": "ipython3",
      "version": "3.7.1"
    },
    "toc": {
      "base_numbering": 1,
      "nav_menu": {},
      "number_sections": true,
      "sideBar": true,
      "skip_h1_title": false,
      "title_cell": "Table of Contents",
      "title_sidebar": "Contents",
      "toc_cell": false,
      "toc_position": {},
      "toc_section_display": true,
      "toc_window_display": false
    },
    "colab": {
      "name": "spacy_testing.ipynb",
      "provenance": [],
      "collapsed_sections": [
        "Ypll4kdMYApb",
        "7e3EJftxYAph",
        "A0JGsXtlYApo",
        "xFRUuStAYAps",
        "iO5F87VKYApt",
        "bzmS_p9-YApw",
        "TMcMA2gxYApy",
        "hqJLUSWXYAp0"
      ],
      "include_colab_link": true
    },
    "accelerator": "GPU"
  },
  "cells": [
    {
      "cell_type": "markdown",
      "metadata": {
        "id": "view-in-github",
        "colab_type": "text"
      },
      "source": [
        "<a href=\"https://colab.research.google.com/github/lorarjohns/irony-sarcasm-detection/blob/master/spacy_testing.ipynb\" target=\"_parent\"><img src=\"https://colab.research.google.com/assets/colab-badge.svg\" alt=\"Open In Colab\"/></a>"
      ]
    },
    {
      "cell_type": "code",
      "metadata": {
        "id": "MFgOpibcYAn9",
        "colab_type": "code",
        "colab": {}
      },
      "source": [
        "# pd.read_excel('/Users/asproul/Downloads/FakeNewsData/Fake News Stories.xlsx').head()"
      ],
      "execution_count": 0,
      "outputs": []
    },
    {
      "cell_type": "code",
      "metadata": {
        "id": "KYF8hSmiYAoF",
        "colab_type": "code",
        "colab": {}
      },
      "source": [
        "# from fastprogress.fastprogress import master_bar, progress_bar\n",
        "# from time import sleep\n",
        "# mb = master_bar(range(10))\n",
        "# for i in mb:\n",
        "#     for j in progress_bar(range(100), parent=mb):\n",
        "#         sleep(0.01)\n",
        "#         mb.child.comment = f'second bar stat'\n",
        "#     mb.main_bar.comment = f'first bar stat'\n",
        "#     mb.write(f'Finished loop {i}.')"
      ],
      "execution_count": 0,
      "outputs": []
    },
    {
      "cell_type": "code",
      "metadata": {
        "id": "LEtpydIwYAoH",
        "colab_type": "code",
        "colab": {}
      },
      "source": [
        "# nyt = pd.read_csv('nyt_10_samples.csv')\n",
        "# onion = pd.read_csv('onion_10_samples.csv')\n",
        "# nyt = nyt[['body_contents', 'all_urls', 'all_dates', 'all_titles', 'all_lengths', \n",
        "#         'all_topics1','all_authors', 'source_id', 'satire_or_not', 'label']]\n",
        "# nyt.columns = onion.columns\n",
        "# df = pd.concat([nyt, onion], axis=0).reset_index(drop=True)\n",
        "# df.topic_1 = 'politics'"
      ],
      "execution_count": 0,
      "outputs": []
    },
    {
      "cell_type": "code",
      "metadata": {
        "id": "-rv2oRKJYmBy",
        "colab_type": "code",
        "outputId": "058684c6-5e32-475c-98f2-2613456ef2f9",
        "colab": {
          "base_uri": "https://localhost:8080/",
          "height": 1000
        }
      },
      "source": [
        "!pip install spacy-transformers\n",
        "!python -m spacy download en_trf_bertbaseuncased_lg"
      ],
      "execution_count": 0,
      "outputs": [
        {
          "output_type": "stream",
          "text": [
            "Collecting spacy-transformers\n",
            "\u001b[?25l  Downloading https://files.pythonhosted.org/packages/16/fb/5dbcf7391d6ba0003fb922737340bff5033729f9c967f08f0468259c4f6a/spacy-transformers-0.5.1.tar.gz (59kB)\n",
            "\u001b[K     |████████████████████████████████| 61kB 6.1MB/s \n",
            "\u001b[?25hCollecting spacy<2.3.0,>=2.2.1\n",
            "\u001b[?25l  Downloading https://files.pythonhosted.org/packages/47/13/80ad28ef7a16e2a86d16d73e28588be5f1085afd3e85e4b9b912bd700e8a/spacy-2.2.3-cp36-cp36m-manylinux1_x86_64.whl (10.4MB)\n",
            "\u001b[K     |████████████████████████████████| 10.4MB 7.7MB/s \n",
            "\u001b[?25hCollecting transformers<2.1.0,>=2.0.0\n",
            "\u001b[?25l  Downloading https://files.pythonhosted.org/packages/66/99/ca0e4c35ccde7d290de3c9c236d5629d1879b04927e5ace9bd6d9183e236/transformers-2.0.0-py3-none-any.whl (290kB)\n",
            "\u001b[K     |████████████████████████████████| 296kB 57.7MB/s \n",
            "\u001b[?25hRequirement already satisfied: torch>=1.0.0 in /usr/local/lib/python3.6/dist-packages (from spacy-transformers) (1.4.0)\n",
            "Collecting torchcontrib<0.1.0,>=0.0.2\n",
            "  Downloading https://files.pythonhosted.org/packages/72/36/45d475035ab35353911e72a03c1c1210eba63b71e5a6917a9e78a046aa10/torchcontrib-0.0.2.tar.gz\n",
            "Requirement already satisfied: srsly<1.1.0,>=0.0.7 in /usr/local/lib/python3.6/dist-packages (from spacy-transformers) (1.0.1)\n",
            "Collecting ftfy<6.0.0,>=5.0.0\n",
            "\u001b[?25l  Downloading https://files.pythonhosted.org/packages/ec/d8/5e877ac5e827eaa41a7ea8c0dc1d3042e05d7e337604dc2aedb854e7b500/ftfy-5.7.tar.gz (58kB)\n",
            "\u001b[K     |████████████████████████████████| 61kB 11.0MB/s \n",
            "\u001b[?25hCollecting dataclasses<0.7,>=0.6\n",
            "  Downloading https://files.pythonhosted.org/packages/26/2f/1095cdc2868052dd1e64520f7c0d5c8c550ad297e944e641dbf1ffbb9a5d/dataclasses-0.6-py3-none-any.whl\n",
            "Requirement already satisfied: importlib_metadata>=0.20 in /usr/local/lib/python3.6/dist-packages (from spacy-transformers) (1.5.0)\n",
            "Collecting preshed<3.1.0,>=3.0.2\n",
            "\u001b[?25l  Downloading https://files.pythonhosted.org/packages/db/6b/e07fad36913879757c90ba03d6fb7f406f7279e11dcefc105ee562de63ea/preshed-3.0.2-cp36-cp36m-manylinux1_x86_64.whl (119kB)\n",
            "\u001b[K     |████████████████████████████████| 122kB 56.9MB/s \n",
            "\u001b[?25hRequirement already satisfied: wasabi<1.1.0,>=0.4.0 in /usr/local/lib/python3.6/dist-packages (from spacy<2.3.0,>=2.2.1->spacy-transformers) (0.6.0)\n",
            "Requirement already satisfied: plac<1.2.0,>=0.9.6 in /usr/local/lib/python3.6/dist-packages (from spacy<2.3.0,>=2.2.1->spacy-transformers) (0.9.6)\n",
            "Requirement already satisfied: numpy>=1.15.0 in /usr/local/lib/python3.6/dist-packages (from spacy<2.3.0,>=2.2.1->spacy-transformers) (1.17.5)\n",
            "Collecting blis<0.5.0,>=0.4.0\n",
            "\u001b[?25l  Downloading https://files.pythonhosted.org/packages/41/19/f95c75562d18eb27219df3a3590b911e78d131b68466ad79fdf5847eaac4/blis-0.4.1-cp36-cp36m-manylinux1_x86_64.whl (3.7MB)\n",
            "\u001b[K     |████████████████████████████████| 3.7MB 45.3MB/s \n",
            "\u001b[?25hCollecting catalogue<1.1.0,>=0.0.7\n",
            "  Downloading https://files.pythonhosted.org/packages/6c/f9/9a5658e2f56932e41eb264941f9a2cb7f3ce41a80cb36b2af6ab78e2f8af/catalogue-1.0.0-py2.py3-none-any.whl\n",
            "Requirement already satisfied: requests<3.0.0,>=2.13.0 in /usr/local/lib/python3.6/dist-packages (from spacy<2.3.0,>=2.2.1->spacy-transformers) (2.21.0)\n",
            "Collecting thinc<7.4.0,>=7.3.0\n",
            "\u001b[?25l  Downloading https://files.pythonhosted.org/packages/07/59/6bb553bc9a5f072d3cd479fc939fea0f6f682892f1f5cff98de5c9b615bb/thinc-7.3.1-cp36-cp36m-manylinux1_x86_64.whl (2.2MB)\n",
            "\u001b[K     |████████████████████████████████| 2.2MB 78.4MB/s \n",
            "\u001b[?25hRequirement already satisfied: cymem<2.1.0,>=2.0.2 in /usr/local/lib/python3.6/dist-packages (from spacy<2.3.0,>=2.2.1->spacy-transformers) (2.0.3)\n",
            "Requirement already satisfied: murmurhash<1.1.0,>=0.28.0 in /usr/local/lib/python3.6/dist-packages (from spacy<2.3.0,>=2.2.1->spacy-transformers) (1.0.2)\n",
            "Requirement already satisfied: setuptools in /usr/local/lib/python3.6/dist-packages (from spacy<2.3.0,>=2.2.1->spacy-transformers) (45.2.0)\n",
            "Requirement already satisfied: tqdm in /usr/local/lib/python3.6/dist-packages (from transformers<2.1.0,>=2.0.0->spacy-transformers) (4.28.1)\n",
            "Requirement already satisfied: boto3 in /usr/local/lib/python3.6/dist-packages (from transformers<2.1.0,>=2.0.0->spacy-transformers) (1.11.15)\n",
            "Collecting sentencepiece\n",
            "\u001b[?25l  Downloading https://files.pythonhosted.org/packages/74/f4/2d5214cbf13d06e7cb2c20d84115ca25b53ea76fa1f0ade0e3c9749de214/sentencepiece-0.1.85-cp36-cp36m-manylinux1_x86_64.whl (1.0MB)\n",
            "\u001b[K     |████████████████████████████████| 1.0MB 70.7MB/s \n",
            "\u001b[?25hCollecting sacremoses\n",
            "\u001b[?25l  Downloading https://files.pythonhosted.org/packages/a6/b4/7a41d630547a4afd58143597d5a49e07bfd4c42914d8335b2a5657efc14b/sacremoses-0.0.38.tar.gz (860kB)\n",
            "\u001b[K     |████████████████████████████████| 870kB 55.8MB/s \n",
            "\u001b[?25hRequirement already satisfied: regex in /usr/local/lib/python3.6/dist-packages (from transformers<2.1.0,>=2.0.0->spacy-transformers) (2019.12.20)\n",
            "Requirement already satisfied: wcwidth in /usr/local/lib/python3.6/dist-packages (from ftfy<6.0.0,>=5.0.0->spacy-transformers) (0.1.8)\n",
            "Requirement already satisfied: zipp>=0.5 in /usr/local/lib/python3.6/dist-packages (from importlib_metadata>=0.20->spacy-transformers) (3.1.0)\n",
            "Requirement already satisfied: chardet<3.1.0,>=3.0.2 in /usr/local/lib/python3.6/dist-packages (from requests<3.0.0,>=2.13.0->spacy<2.3.0,>=2.2.1->spacy-transformers) (3.0.4)\n",
            "Requirement already satisfied: certifi>=2017.4.17 in /usr/local/lib/python3.6/dist-packages (from requests<3.0.0,>=2.13.0->spacy<2.3.0,>=2.2.1->spacy-transformers) (2019.11.28)\n",
            "Requirement already satisfied: idna<2.9,>=2.5 in /usr/local/lib/python3.6/dist-packages (from requests<3.0.0,>=2.13.0->spacy<2.3.0,>=2.2.1->spacy-transformers) (2.8)\n",
            "Requirement already satisfied: urllib3<1.25,>=1.21.1 in /usr/local/lib/python3.6/dist-packages (from requests<3.0.0,>=2.13.0->spacy<2.3.0,>=2.2.1->spacy-transformers) (1.24.3)\n",
            "Requirement already satisfied: botocore<1.15.0,>=1.14.15 in /usr/local/lib/python3.6/dist-packages (from boto3->transformers<2.1.0,>=2.0.0->spacy-transformers) (1.14.15)\n",
            "Requirement already satisfied: jmespath<1.0.0,>=0.7.1 in /usr/local/lib/python3.6/dist-packages (from boto3->transformers<2.1.0,>=2.0.0->spacy-transformers) (0.9.4)\n",
            "Requirement already satisfied: s3transfer<0.4.0,>=0.3.0 in /usr/local/lib/python3.6/dist-packages (from boto3->transformers<2.1.0,>=2.0.0->spacy-transformers) (0.3.3)\n",
            "Requirement already satisfied: six in /usr/local/lib/python3.6/dist-packages (from sacremoses->transformers<2.1.0,>=2.0.0->spacy-transformers) (1.12.0)\n",
            "Requirement already satisfied: click in /usr/local/lib/python3.6/dist-packages (from sacremoses->transformers<2.1.0,>=2.0.0->spacy-transformers) (7.0)\n",
            "Requirement already satisfied: joblib in /usr/local/lib/python3.6/dist-packages (from sacremoses->transformers<2.1.0,>=2.0.0->spacy-transformers) (0.14.1)\n",
            "Requirement already satisfied: docutils<0.16,>=0.10 in /usr/local/lib/python3.6/dist-packages (from botocore<1.15.0,>=1.14.15->boto3->transformers<2.1.0,>=2.0.0->spacy-transformers) (0.15.2)\n",
            "Requirement already satisfied: python-dateutil<3.0.0,>=2.1 in /usr/local/lib/python3.6/dist-packages (from botocore<1.15.0,>=1.14.15->boto3->transformers<2.1.0,>=2.0.0->spacy-transformers) (2.6.1)\n",
            "Building wheels for collected packages: spacy-transformers, torchcontrib, ftfy, sacremoses\n",
            "  Building wheel for spacy-transformers (setup.py) ... \u001b[?25l\u001b[?25hdone\n",
            "  Created wheel for spacy-transformers: filename=spacy_transformers-0.5.1-py2.py3-none-any.whl size=52835 sha256=00dc39ce5efc9d56e263663d7a905b1b0c2b369145de9cc3a4715b0802945433\n",
            "  Stored in directory: /root/.cache/pip/wheels/29/c2/17/625a3d14da8cabe9781ab1648d489d1b41a8a81dc289e5af1f\n",
            "  Building wheel for torchcontrib (setup.py) ... \u001b[?25l\u001b[?25hdone\n",
            "  Created wheel for torchcontrib: filename=torchcontrib-0.0.2-cp36-none-any.whl size=7533 sha256=5a57cbf3cbb41e852ec28ca5804f62707aead91ce33f070e725435ddfdcb2d39\n",
            "  Stored in directory: /root/.cache/pip/wheels/06/06/7b/a5f5920bbf4f12a2c927e438fac17d4cd9560f8336b00e9a99\n",
            "  Building wheel for ftfy (setup.py) ... \u001b[?25l\u001b[?25hdone\n",
            "  Created wheel for ftfy: filename=ftfy-5.7-cp36-none-any.whl size=44593 sha256=244b9bbdad8123c7e32bd50e7f4d1077a0d0e9bd7845c2a76007af2cd480c0da\n",
            "  Stored in directory: /root/.cache/pip/wheels/8e/da/59/6c8925d571aacade638a0f515960c21c0887af1bfe31908fbf\n",
            "  Building wheel for sacremoses (setup.py) ... \u001b[?25l\u001b[?25hdone\n",
            "  Created wheel for sacremoses: filename=sacremoses-0.0.38-cp36-none-any.whl size=884628 sha256=0e3df333844fad9634e7b4c66efe1168909b12dcfc81078f94cadd2ceb2fb2af\n",
            "  Stored in directory: /root/.cache/pip/wheels/6d/ec/1a/21b8912e35e02741306f35f66c785f3afe94de754a0eaf1422\n",
            "Successfully built spacy-transformers torchcontrib ftfy sacremoses\n",
            "Installing collected packages: preshed, blis, catalogue, thinc, spacy, sentencepiece, sacremoses, transformers, torchcontrib, ftfy, dataclasses, spacy-transformers\n",
            "  Found existing installation: preshed 2.0.1\n",
            "    Uninstalling preshed-2.0.1:\n",
            "      Successfully uninstalled preshed-2.0.1\n",
            "  Found existing installation: blis 0.2.4\n",
            "    Uninstalling blis-0.2.4:\n",
            "      Successfully uninstalled blis-0.2.4\n",
            "  Found existing installation: thinc 7.0.8\n",
            "    Uninstalling thinc-7.0.8:\n",
            "      Successfully uninstalled thinc-7.0.8\n",
            "  Found existing installation: spacy 2.1.9\n",
            "    Uninstalling spacy-2.1.9:\n",
            "      Successfully uninstalled spacy-2.1.9\n",
            "  Found existing installation: dataclasses 0.7\n",
            "    Uninstalling dataclasses-0.7:\n",
            "      Successfully uninstalled dataclasses-0.7\n",
            "Successfully installed blis-0.4.1 catalogue-1.0.0 dataclasses-0.6 ftfy-5.7 preshed-3.0.2 sacremoses-0.0.38 sentencepiece-0.1.85 spacy-2.2.3 spacy-transformers-0.5.1 thinc-7.3.1 torchcontrib-0.0.2 transformers-2.0.0\n"
          ],
          "name": "stdout"
        },
        {
          "output_type": "display_data",
          "data": {
            "application/vnd.colab-display-data+json": {
              "pip_warning": {
                "packages": [
                  "blis",
                  "preshed",
                  "spacy",
                  "thinc"
                ]
              }
            }
          },
          "metadata": {
            "tags": []
          }
        },
        {
          "output_type": "stream",
          "text": [
            "Collecting en_trf_bertbaseuncased_lg==2.2.0\n",
            "\u001b[?25l  Downloading https://github.com/explosion/spacy-models/releases/download/en_trf_bertbaseuncased_lg-2.2.0/en_trf_bertbaseuncased_lg-2.2.0.tar.gz (405.8MB)\n",
            "\u001b[K     |████████████████████████████████| 405.8MB 1.1MB/s \n",
            "\u001b[?25hRequirement already satisfied: spacy>=2.2.1 in /usr/local/lib/python3.6/dist-packages (from en_trf_bertbaseuncased_lg==2.2.0) (2.2.3)\n",
            "Requirement already satisfied: spacy-transformers>=0.5.0 in /usr/local/lib/python3.6/dist-packages (from en_trf_bertbaseuncased_lg==2.2.0) (0.5.1)\n",
            "Requirement already satisfied: thinc<7.4.0,>=7.3.0 in /usr/local/lib/python3.6/dist-packages (from spacy>=2.2.1->en_trf_bertbaseuncased_lg==2.2.0) (7.3.1)\n",
            "Requirement already satisfied: srsly<1.1.0,>=0.1.0 in /usr/local/lib/python3.6/dist-packages (from spacy>=2.2.1->en_trf_bertbaseuncased_lg==2.2.0) (1.0.1)\n",
            "Requirement already satisfied: catalogue<1.1.0,>=0.0.7 in /usr/local/lib/python3.6/dist-packages (from spacy>=2.2.1->en_trf_bertbaseuncased_lg==2.2.0) (1.0.0)\n",
            "Requirement already satisfied: numpy>=1.15.0 in /usr/local/lib/python3.6/dist-packages (from spacy>=2.2.1->en_trf_bertbaseuncased_lg==2.2.0) (1.17.5)\n",
            "Requirement already satisfied: requests<3.0.0,>=2.13.0 in /usr/local/lib/python3.6/dist-packages (from spacy>=2.2.1->en_trf_bertbaseuncased_lg==2.2.0) (2.21.0)\n",
            "Requirement already satisfied: blis<0.5.0,>=0.4.0 in /usr/local/lib/python3.6/dist-packages (from spacy>=2.2.1->en_trf_bertbaseuncased_lg==2.2.0) (0.4.1)\n",
            "Requirement already satisfied: setuptools in /usr/local/lib/python3.6/dist-packages (from spacy>=2.2.1->en_trf_bertbaseuncased_lg==2.2.0) (45.2.0)\n",
            "Requirement already satisfied: murmurhash<1.1.0,>=0.28.0 in /usr/local/lib/python3.6/dist-packages (from spacy>=2.2.1->en_trf_bertbaseuncased_lg==2.2.0) (1.0.2)\n",
            "Requirement already satisfied: plac<1.2.0,>=0.9.6 in /usr/local/lib/python3.6/dist-packages (from spacy>=2.2.1->en_trf_bertbaseuncased_lg==2.2.0) (0.9.6)\n",
            "Requirement already satisfied: preshed<3.1.0,>=3.0.2 in /usr/local/lib/python3.6/dist-packages (from spacy>=2.2.1->en_trf_bertbaseuncased_lg==2.2.0) (3.0.2)\n",
            "Requirement already satisfied: wasabi<1.1.0,>=0.4.0 in /usr/local/lib/python3.6/dist-packages (from spacy>=2.2.1->en_trf_bertbaseuncased_lg==2.2.0) (0.6.0)\n",
            "Requirement already satisfied: cymem<2.1.0,>=2.0.2 in /usr/local/lib/python3.6/dist-packages (from spacy>=2.2.1->en_trf_bertbaseuncased_lg==2.2.0) (2.0.3)\n",
            "Requirement already satisfied: transformers<2.1.0,>=2.0.0 in /usr/local/lib/python3.6/dist-packages (from spacy-transformers>=0.5.0->en_trf_bertbaseuncased_lg==2.2.0) (2.0.0)\n",
            "Requirement already satisfied: dataclasses<0.7,>=0.6; python_version < \"3.7\" in /usr/local/lib/python3.6/dist-packages (from spacy-transformers>=0.5.0->en_trf_bertbaseuncased_lg==2.2.0) (0.6)\n",
            "Requirement already satisfied: torchcontrib<0.1.0,>=0.0.2 in /usr/local/lib/python3.6/dist-packages (from spacy-transformers>=0.5.0->en_trf_bertbaseuncased_lg==2.2.0) (0.0.2)\n",
            "Requirement already satisfied: ftfy<6.0.0,>=5.0.0 in /usr/local/lib/python3.6/dist-packages (from spacy-transformers>=0.5.0->en_trf_bertbaseuncased_lg==2.2.0) (5.7)\n",
            "Requirement already satisfied: importlib-metadata>=0.20; python_version < \"3.8\" in /usr/local/lib/python3.6/dist-packages (from spacy-transformers>=0.5.0->en_trf_bertbaseuncased_lg==2.2.0) (1.5.0)\n",
            "Requirement already satisfied: torch>=1.0.0 in /usr/local/lib/python3.6/dist-packages (from spacy-transformers>=0.5.0->en_trf_bertbaseuncased_lg==2.2.0) (1.4.0)\n",
            "Requirement already satisfied: tqdm<5.0.0,>=4.10.0 in /usr/local/lib/python3.6/dist-packages (from thinc<7.4.0,>=7.3.0->spacy>=2.2.1->en_trf_bertbaseuncased_lg==2.2.0) (4.28.1)\n",
            "Requirement already satisfied: certifi>=2017.4.17 in /usr/local/lib/python3.6/dist-packages (from requests<3.0.0,>=2.13.0->spacy>=2.2.1->en_trf_bertbaseuncased_lg==2.2.0) (2019.11.28)\n",
            "Requirement already satisfied: urllib3<1.25,>=1.21.1 in /usr/local/lib/python3.6/dist-packages (from requests<3.0.0,>=2.13.0->spacy>=2.2.1->en_trf_bertbaseuncased_lg==2.2.0) (1.24.3)\n",
            "Requirement already satisfied: idna<2.9,>=2.5 in /usr/local/lib/python3.6/dist-packages (from requests<3.0.0,>=2.13.0->spacy>=2.2.1->en_trf_bertbaseuncased_lg==2.2.0) (2.8)\n",
            "Requirement already satisfied: chardet<3.1.0,>=3.0.2 in /usr/local/lib/python3.6/dist-packages (from requests<3.0.0,>=2.13.0->spacy>=2.2.1->en_trf_bertbaseuncased_lg==2.2.0) (3.0.4)\n",
            "Requirement already satisfied: sacremoses in /usr/local/lib/python3.6/dist-packages (from transformers<2.1.0,>=2.0.0->spacy-transformers>=0.5.0->en_trf_bertbaseuncased_lg==2.2.0) (0.0.38)\n",
            "Requirement already satisfied: regex in /usr/local/lib/python3.6/dist-packages (from transformers<2.1.0,>=2.0.0->spacy-transformers>=0.5.0->en_trf_bertbaseuncased_lg==2.2.0) (2019.12.20)\n",
            "Requirement already satisfied: boto3 in /usr/local/lib/python3.6/dist-packages (from transformers<2.1.0,>=2.0.0->spacy-transformers>=0.5.0->en_trf_bertbaseuncased_lg==2.2.0) (1.11.15)\n",
            "Requirement already satisfied: sentencepiece in /usr/local/lib/python3.6/dist-packages (from transformers<2.1.0,>=2.0.0->spacy-transformers>=0.5.0->en_trf_bertbaseuncased_lg==2.2.0) (0.1.85)\n",
            "Requirement already satisfied: wcwidth in /usr/local/lib/python3.6/dist-packages (from ftfy<6.0.0,>=5.0.0->spacy-transformers>=0.5.0->en_trf_bertbaseuncased_lg==2.2.0) (0.1.8)\n",
            "Requirement already satisfied: zipp>=0.5 in /usr/local/lib/python3.6/dist-packages (from importlib-metadata>=0.20; python_version < \"3.8\"->spacy-transformers>=0.5.0->en_trf_bertbaseuncased_lg==2.2.0) (3.1.0)\n",
            "Requirement already satisfied: six in /usr/local/lib/python3.6/dist-packages (from sacremoses->transformers<2.1.0,>=2.0.0->spacy-transformers>=0.5.0->en_trf_bertbaseuncased_lg==2.2.0) (1.12.0)\n",
            "Requirement already satisfied: click in /usr/local/lib/python3.6/dist-packages (from sacremoses->transformers<2.1.0,>=2.0.0->spacy-transformers>=0.5.0->en_trf_bertbaseuncased_lg==2.2.0) (7.0)\n",
            "Requirement already satisfied: joblib in /usr/local/lib/python3.6/dist-packages (from sacremoses->transformers<2.1.0,>=2.0.0->spacy-transformers>=0.5.0->en_trf_bertbaseuncased_lg==2.2.0) (0.14.1)\n",
            "Requirement already satisfied: s3transfer<0.4.0,>=0.3.0 in /usr/local/lib/python3.6/dist-packages (from boto3->transformers<2.1.0,>=2.0.0->spacy-transformers>=0.5.0->en_trf_bertbaseuncased_lg==2.2.0) (0.3.3)\n",
            "Requirement already satisfied: jmespath<1.0.0,>=0.7.1 in /usr/local/lib/python3.6/dist-packages (from boto3->transformers<2.1.0,>=2.0.0->spacy-transformers>=0.5.0->en_trf_bertbaseuncased_lg==2.2.0) (0.9.4)\n",
            "Requirement already satisfied: botocore<1.15.0,>=1.14.15 in /usr/local/lib/python3.6/dist-packages (from boto3->transformers<2.1.0,>=2.0.0->spacy-transformers>=0.5.0->en_trf_bertbaseuncased_lg==2.2.0) (1.14.15)\n",
            "Requirement already satisfied: python-dateutil<3.0.0,>=2.1 in /usr/local/lib/python3.6/dist-packages (from botocore<1.15.0,>=1.14.15->boto3->transformers<2.1.0,>=2.0.0->spacy-transformers>=0.5.0->en_trf_bertbaseuncased_lg==2.2.0) (2.6.1)\n",
            "Requirement already satisfied: docutils<0.16,>=0.10 in /usr/local/lib/python3.6/dist-packages (from botocore<1.15.0,>=1.14.15->boto3->transformers<2.1.0,>=2.0.0->spacy-transformers>=0.5.0->en_trf_bertbaseuncased_lg==2.2.0) (0.15.2)\n",
            "Building wheels for collected packages: en-trf-bertbaseuncased-lg\n",
            "  Building wheel for en-trf-bertbaseuncased-lg (setup.py) ... \u001b[?25l\u001b[?25hdone\n",
            "  Created wheel for en-trf-bertbaseuncased-lg: filename=en_trf_bertbaseuncased_lg-2.2.0-cp36-none-any.whl size=405819945 sha256=7515a2bf2889fa7a4ad4d40575b40ec53f8761b146eaa968bf37658a84cc7d4b\n",
            "  Stored in directory: /tmp/pip-ephem-wheel-cache-masbn_nd/wheels/f6/60/8c/c6f517ef9729972f1be15c3aab4b93e7ec9fbeb71d072a84de\n",
            "Successfully built en-trf-bertbaseuncased-lg\n",
            "Installing collected packages: en-trf-bertbaseuncased-lg\n",
            "Successfully installed en-trf-bertbaseuncased-lg-2.2.0\n",
            "\u001b[38;5;2m✔ Download and installation successful\u001b[0m\n",
            "You can now load the model via spacy.load('en_trf_bertbaseuncased_lg')\n"
          ],
          "name": "stdout"
        }
      ]
    },
    {
      "cell_type": "code",
      "metadata": {
        "id": "7QqMS2E3YAoC",
        "colab_type": "code",
        "colab": {}
      },
      "source": [
        "import spacy\n",
        "import torch\n",
        "import random\n",
        "import fastprogress\n",
        "import numpy as np\n",
        "import pandas as pd\n",
        "from spacy.util import minibatch"
      ],
      "execution_count": 0,
      "outputs": []
    },
    {
      "cell_type": "code",
      "metadata": {
        "id": "Ti2Uoh-qYAoS",
        "colab_type": "code",
        "outputId": "08841ce9-9320-4064-9f4a-54cbc8ec2d53",
        "colab": {
          "base_uri": "https://localhost:8080/",
          "height": 65
        }
      },
      "source": [
        "nlp = spacy.load(\"en_trf_bertbaseuncased_lg\")"
      ],
      "execution_count": 0,
      "outputs": [
        {
          "output_type": "display_data",
          "data": {
            "text/html": [
              "<p style=\"color: red;\">\n",
              "The default version of TensorFlow in Colab will soon switch to TensorFlow 2.x.<br>\n",
              "We recommend you <a href=\"https://www.tensorflow.org/guide/migrate\" target=\"_blank\">upgrade</a> now \n",
              "or ensure your notebook will continue to use TensorFlow 1.x via the <code>%tensorflow_version 1.x</code> magic:\n",
              "<a href=\"https://colab.research.google.com/notebooks/tensorflow_version.ipynb\" target=\"_blank\">more info</a>.</p>\n"
            ],
            "text/plain": [
              "<IPython.core.display.HTML object>"
            ]
          },
          "metadata": {
            "tags": []
          }
        }
      ]
    },
    {
      "cell_type": "code",
      "metadata": {
        "id": "95dTuevDfDsG",
        "colab_type": "code",
        "outputId": "da6b5b06-2706-4c31-ffde-c92fc2880a0b",
        "colab": {
          "resources": {
            "http://localhost:8080/nbextensions/google.colab/files.js": {
              "data": "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",
              "ok": true,
              "headers": [
                [
                  "content-type",
                  "application/javascript"
                ]
              ],
              "status": 200,
              "status_text": ""
            }
          },
          "base_uri": "https://localhost:8080/",
          "height": 76
        }
      },
      "source": [
        "from google.colab import files\n",
        "uploaded = files.upload()"
      ],
      "execution_count": 4,
      "outputs": [
        {
          "output_type": "display_data",
          "data": {
            "text/html": [
              "\n",
              "     <input type=\"file\" id=\"files-fa4e7066-5926-466f-aa7c-683472dccaea\" name=\"files[]\" multiple disabled />\n",
              "     <output id=\"result-fa4e7066-5926-466f-aa7c-683472dccaea\">\n",
              "      Upload widget is only available when the cell has been executed in the\n",
              "      current browser session. Please rerun this cell to enable.\n",
              "      </output>\n",
              "      <script src=\"/nbextensions/google.colab/files.js\"></script> "
            ],
            "text/plain": [
              "<IPython.core.display.HTML object>"
            ]
          },
          "metadata": {
            "tags": []
          }
        },
        {
          "output_type": "stream",
          "text": [
            "Saving spacy_testing.csv to spacy_testing.csv\n"
          ],
          "name": "stdout"
        }
      ]
    },
    {
      "cell_type": "code",
      "metadata": {
        "id": "qGILHqw6fDpK",
        "colab_type": "code",
        "colab": {}
      },
      "source": [
        "import io\n",
        "df = pd.read_csv(io.BytesIO(uploaded['spacy_testing.csv']))"
      ],
      "execution_count": 0,
      "outputs": []
    },
    {
      "cell_type": "code",
      "metadata": {
        "id": "bJBrx5yTYAoM",
        "colab_type": "code",
        "outputId": "ddafd74c-b932-4a8d-f855-6a4931d4ffe7",
        "colab": {
          "base_uri": "https://localhost:8080/",
          "height": 1000
        }
      },
      "source": [
        "df"
      ],
      "execution_count": 6,
      "outputs": [
        {
          "output_type": "execute_result",
          "data": {
            "text/html": [
              "<div>\n",
              "<style scoped>\n",
              "    .dataframe tbody tr th:only-of-type {\n",
              "        vertical-align: middle;\n",
              "    }\n",
              "\n",
              "    .dataframe tbody tr th {\n",
              "        vertical-align: top;\n",
              "    }\n",
              "\n",
              "    .dataframe thead th {\n",
              "        text-align: right;\n",
              "    }\n",
              "</style>\n",
              "<table border=\"1\" class=\"dataframe\">\n",
              "  <thead>\n",
              "    <tr style=\"text-align: right;\">\n",
              "      <th></th>\n",
              "      <th>body_content</th>\n",
              "      <th>url</th>\n",
              "      <th>date</th>\n",
              "      <th>title</th>\n",
              "      <th>length</th>\n",
              "      <th>topic_1</th>\n",
              "      <th>author</th>\n",
              "      <th>source_id</th>\n",
              "      <th>satire_or_not</th>\n",
              "      <th>label</th>\n",
              "    </tr>\n",
              "  </thead>\n",
              "  <tbody>\n",
              "    <tr>\n",
              "      <th>0</th>\n",
              "      <td>Monday was a big news day in Washington. In ad...</td>\n",
              "      <td>https://www.nytimes.com/2019/12/09/us/politics...</td>\n",
              "      <td>2019-12-09</td>\n",
              "      <td>Impeachment Briefing: What Happened Today</td>\n",
              "      <td>2.8</td>\n",
              "      <td>politics</td>\n",
              "      <td>Noah Weiland</td>\n",
              "      <td>NY Times</td>\n",
              "      <td>not_satire</td>\n",
              "      <td>0</td>\n",
              "    </tr>\n",
              "    <tr>\n",
              "      <th>1</th>\n",
              "      <td>WASHINGTON — Iran on Saturday freed an America...</td>\n",
              "      <td>https://www.nytimes.com/2019/12/07/us/politics...</td>\n",
              "      <td>2019-12-07</td>\n",
              "      <td>In Prisoner Swap, Iran Frees American Held Sin...</td>\n",
              "      <td>7.7</td>\n",
              "      <td>politics</td>\n",
              "      <td>Michael Crowley</td>\n",
              "      <td>NY Times</td>\n",
              "      <td>not_satire</td>\n",
              "      <td>0</td>\n",
              "    </tr>\n",
              "    <tr>\n",
              "      <th>2</th>\n",
              "      <td>America’s job engine has again defied jittery ...</td>\n",
              "      <td>https://www.nytimes.com/2019/12/06/business/ec...</td>\n",
              "      <td>2019-12-06</td>\n",
              "      <td>U.S. Added 266,000 Jobs In November. Here’S Th...</td>\n",
              "      <td>6.9</td>\n",
              "      <td>politics</td>\n",
              "      <td>Patricia Cohen</td>\n",
              "      <td>NY Times</td>\n",
              "      <td>not_satire</td>\n",
              "      <td>0</td>\n",
              "    </tr>\n",
              "    <tr>\n",
              "      <th>3</th>\n",
              "      <td>WASHINGTON — Almost from the moment that Speak...</td>\n",
              "      <td>https://www.nytimes.com/2019/12/08/us/politics...</td>\n",
              "      <td>2019-12-08</td>\n",
              "      <td>With White House Absent, Impeachment Devolves ...</td>\n",
              "      <td>8.4</td>\n",
              "      <td>politics</td>\n",
              "      <td>Michael D. Shear, Nicholas Fandos, Maggie Habe...</td>\n",
              "      <td>NY Times</td>\n",
              "      <td>not_satire</td>\n",
              "      <td>0</td>\n",
              "    </tr>\n",
              "    <tr>\n",
              "      <th>4</th>\n",
              "      <td>President Trump is taking on Americans’ flushi...</td>\n",
              "      <td>https://www.nytimes.com/2019/12/07/us/politics...</td>\n",
              "      <td>2019-12-07</td>\n",
              "      <td>Trump Wants A Review Of Toilets: Americans Are...</td>\n",
              "      <td>1.9</td>\n",
              "      <td>politics</td>\n",
              "      <td>Johnny Diaz</td>\n",
              "      <td>NY Times</td>\n",
              "      <td>not_satire</td>\n",
              "      <td>0</td>\n",
              "    </tr>\n",
              "    <tr>\n",
              "      <th>5</th>\n",
              "      <td>SIMI VALLEY, Calif. — The Air Force will propo...</td>\n",
              "      <td>https://www.nytimes.com/2019/12/08/us/politics...</td>\n",
              "      <td>2019-12-08</td>\n",
              "      <td>Air Force Aims To Deploy A New Battlefield Wea...</td>\n",
              "      <td>5.7</td>\n",
              "      <td>politics</td>\n",
              "      <td>Julian E. Barnes</td>\n",
              "      <td>NY Times</td>\n",
              "      <td>not_satire</td>\n",
              "      <td>0</td>\n",
              "    </tr>\n",
              "    <tr>\n",
              "      <th>6</th>\n",
              "      <td>WASHINGTON — Lawmakers on Monday unveiled a do...</td>\n",
              "      <td>https://www.nytimes.com/2019/12/16/us/politics...</td>\n",
              "      <td>2019-12-16</td>\n",
              "      <td>Spending Deal To Avert Shutdown Carries Key Pr...</td>\n",
              "      <td>4.5</td>\n",
              "      <td>politics</td>\n",
              "      <td>Emily Cochrane</td>\n",
              "      <td>NY Times</td>\n",
              "      <td>not_satire</td>\n",
              "      <td>0</td>\n",
              "    </tr>\n",
              "    <tr>\n",
              "      <th>7</th>\n",
              "      <td>Soon after Maj. Gen. Qassim Suleimani, Iran’s ...</td>\n",
              "      <td>https://www.nytimes.com/2020/01/03/us/politics...</td>\n",
              "      <td>2020-01-03</td>\n",
              "      <td>Homeland Security Sees ‘No Specific, Credible ...</td>\n",
              "      <td>5.3</td>\n",
              "      <td>politics</td>\n",
              "      <td>Zolan Kanno-Youngs</td>\n",
              "      <td>NY Times</td>\n",
              "      <td>not_satire</td>\n",
              "      <td>0</td>\n",
              "    </tr>\n",
              "    <tr>\n",
              "      <th>8</th>\n",
              "      <td>I’m going to start this newsletter tonight wit...</td>\n",
              "      <td>https://www.nytimes.com/2019/12/05/us/politics...</td>\n",
              "      <td>2019-12-05</td>\n",
              "      <td>Can Money Buy Bloomberg Love?</td>\n",
              "      <td>3.6</td>\n",
              "      <td>politics</td>\n",
              "      <td>Lisa Lerer</td>\n",
              "      <td>NY Times</td>\n",
              "      <td>not_satire</td>\n",
              "      <td>0</td>\n",
              "    </tr>\n",
              "    <tr>\n",
              "      <th>9</th>\n",
              "      <td>The federal labor board handed McDonald’s a ma...</td>\n",
              "      <td>https://www.nytimes.com/2019/12/12/business/ec...</td>\n",
              "      <td>2019-12-12</td>\n",
              "      <td>Mcdonald’S Notches Big Victory In Labor Board ...</td>\n",
              "      <td>3.6</td>\n",
              "      <td>politics</td>\n",
              "      <td>Noam Scheiber</td>\n",
              "      <td>NY Times</td>\n",
              "      <td>not_satire</td>\n",
              "      <td>0</td>\n",
              "    </tr>\n",
              "    <tr>\n",
              "      <th>10</th>\n",
              "      <td>Growing increasingly frustrated as he attempte...</td>\n",
              "      <td>https://politics.theonion.com/man-confused-by-...</td>\n",
              "      <td>2018-11-06</td>\n",
              "      <td>Man Confused By Obscure Down-Ballot Measure Ab...</td>\n",
              "      <td>0.9</td>\n",
              "      <td>politics</td>\n",
              "      <td>Author not specified</td>\n",
              "      <td>The Onion</td>\n",
              "      <td>satire</td>\n",
              "      <td>1</td>\n",
              "    </tr>\n",
              "    <tr>\n",
              "      <th>11</th>\n",
              "      <td>Admitting that her attempts to fantasize about...</td>\n",
              "      <td>https://politics.theonion.com/beto-voter-strug...</td>\n",
              "      <td>2018-11-07</td>\n",
              "      <td>Beto Voter Struggling To Refocus Her Sexual Fa...</td>\n",
              "      <td>0.9</td>\n",
              "      <td>politics</td>\n",
              "      <td>Author not specified</td>\n",
              "      <td>The Onion</td>\n",
              "      <td>satire</td>\n",
              "      <td>1</td>\n",
              "    </tr>\n",
              "    <tr>\n",
              "      <th>12</th>\n",
              "      <td>Desperate to unwind after months of nonstop wo...</td>\n",
              "      <td>https://politics.theonion.com/exhausted-robert...</td>\n",
              "      <td>2018-12-21</td>\n",
              "      <td>Exhausted Robert Mueller Turns Off Phone To Gi...</td>\n",
              "      <td>1.0</td>\n",
              "      <td>politics</td>\n",
              "      <td>Author not specified</td>\n",
              "      <td>The Onion</td>\n",
              "      <td>satire</td>\n",
              "      <td>1</td>\n",
              "    </tr>\n",
              "    <tr>\n",
              "      <th>13</th>\n",
              "      <td>Promising that the author would spend “100 kaj...</td>\n",
              "      <td>https://politics.theonion.com/trump-boys-leave...</td>\n",
              "      <td>2018-09-11</td>\n",
              "      <td>Trump Boys Leave $5 Bill, Candy Bar Under Prop...</td>\n",
              "      <td>1.0</td>\n",
              "      <td>politics</td>\n",
              "      <td>Author not specified</td>\n",
              "      <td>The Onion</td>\n",
              "      <td>satire</td>\n",
              "      <td>1</td>\n",
              "    </tr>\n",
              "    <tr>\n",
              "      <th>14</th>\n",
              "      <td>Suddenly overcome by a swell of emotion while ...</td>\n",
              "      <td>https://politics.theonion.com/tearful-trump-ad...</td>\n",
              "      <td>2018-07-11</td>\n",
              "      <td>Tearful Trump Admits NATO Alliance Closest Thi...</td>\n",
              "      <td>0.9</td>\n",
              "      <td>politics</td>\n",
              "      <td>Author not specified</td>\n",
              "      <td>The Onion</td>\n",
              "      <td>satire</td>\n",
              "      <td>1</td>\n",
              "    </tr>\n",
              "    <tr>\n",
              "      <th>15</th>\n",
              "      <td>Explaining that the lifetime appointment would...</td>\n",
              "      <td>https://politics.theonion.com/newly-sober-kava...</td>\n",
              "      <td>2018-10-01</td>\n",
              "      <td>Newly Sober Kavanaugh Introduces Sponsor Who S...</td>\n",
              "      <td>0.9</td>\n",
              "      <td>politics</td>\n",
              "      <td>Author not specified</td>\n",
              "      <td>The Onion</td>\n",
              "      <td>satire</td>\n",
              "      <td>1</td>\n",
              "    </tr>\n",
              "    <tr>\n",
              "      <th>16</th>\n",
              "      <td>In an effort to walk back contradictory and po...</td>\n",
              "      <td>https://politics.theonion.com/giuliani-let-s-j...</td>\n",
              "      <td>2019-01-22</td>\n",
              "      <td>Giuliani: ‘Let’s Just Start Everything Over’</td>\n",
              "      <td>1.1</td>\n",
              "      <td>politics</td>\n",
              "      <td>Author not specified</td>\n",
              "      <td>The Onion</td>\n",
              "      <td>satire</td>\n",
              "      <td>1</td>\n",
              "    </tr>\n",
              "    <tr>\n",
              "      <th>17</th>\n",
              "      <td>After brutally launching the head of the speci...</td>\n",
              "      <td>https://politics.theonion.com/the-investigatio...</td>\n",
              "      <td>2018-09-26</td>\n",
              "      <td>‘The Investigation Ends Now,’ Growls Shadow Co...</td>\n",
              "      <td>0.9</td>\n",
              "      <td>politics</td>\n",
              "      <td>Author not specified</td>\n",
              "      <td>The Onion</td>\n",
              "      <td>satire</td>\n",
              "      <td>1</td>\n",
              "    </tr>\n",
              "    <tr>\n",
              "      <th>18</th>\n",
              "      <td>Standing firm in his commitment to one of the ...</td>\n",
              "      <td>https://politics.theonion.com/sessions-vows-to...</td>\n",
              "      <td>2018-08-01</td>\n",
              "      <td>Sessions Vows To Protect All Deeply Held Relig...</td>\n",
              "      <td>0.9</td>\n",
              "      <td>politics</td>\n",
              "      <td>Author not specified</td>\n",
              "      <td>The Onion</td>\n",
              "      <td>satire</td>\n",
              "      <td>1</td>\n",
              "    </tr>\n",
              "    <tr>\n",
              "      <th>19</th>\n",
              "      <td>Bursting through the Congressional chamber doo...</td>\n",
              "      <td>https://politics.theonion.com/bleeding-john-bo...</td>\n",
              "      <td>2019-05-17</td>\n",
              "      <td>Bleeding John Bolton Stumbles Into Capitol Bui...</td>\n",
              "      <td>0.8</td>\n",
              "      <td>politics</td>\n",
              "      <td>Author not specified</td>\n",
              "      <td>The Onion</td>\n",
              "      <td>satire</td>\n",
              "      <td>1</td>\n",
              "    </tr>\n",
              "  </tbody>\n",
              "</table>\n",
              "</div>"
            ],
            "text/plain": [
              "                                         body_content  ... label\n",
              "0   Monday was a big news day in Washington. In ad...  ...     0\n",
              "1   WASHINGTON — Iran on Saturday freed an America...  ...     0\n",
              "2   America’s job engine has again defied jittery ...  ...     0\n",
              "3   WASHINGTON — Almost from the moment that Speak...  ...     0\n",
              "4   President Trump is taking on Americans’ flushi...  ...     0\n",
              "5   SIMI VALLEY, Calif. — The Air Force will propo...  ...     0\n",
              "6   WASHINGTON — Lawmakers on Monday unveiled a do...  ...     0\n",
              "7   Soon after Maj. Gen. Qassim Suleimani, Iran’s ...  ...     0\n",
              "8   I’m going to start this newsletter tonight wit...  ...     0\n",
              "9   The federal labor board handed McDonald’s a ma...  ...     0\n",
              "10  Growing increasingly frustrated as he attempte...  ...     1\n",
              "11  Admitting that her attempts to fantasize about...  ...     1\n",
              "12  Desperate to unwind after months of nonstop wo...  ...     1\n",
              "13  Promising that the author would spend “100 kaj...  ...     1\n",
              "14  Suddenly overcome by a swell of emotion while ...  ...     1\n",
              "15  Explaining that the lifetime appointment would...  ...     1\n",
              "16  In an effort to walk back contradictory and po...  ...     1\n",
              "17  After brutally launching the head of the speci...  ...     1\n",
              "18  Standing firm in his commitment to one of the ...  ...     1\n",
              "19  Bursting through the Congressional chamber doo...  ...     1\n",
              "\n",
              "[20 rows x 10 columns]"
            ]
          },
          "metadata": {
            "tags": []
          },
          "execution_count": 6
        }
      ]
    },
    {
      "cell_type": "code",
      "metadata": {
        "id": "u_B3nSEPYAoP",
        "colab_type": "code",
        "outputId": "aaf3d4aa-388e-4af2-b857-d7137d7ae302",
        "colab": {
          "base_uri": "https://localhost:8080/",
          "height": 36
        }
      },
      "source": [
        "df.shape\n",
        "df.loc[0, 'title']"
      ],
      "execution_count": 26,
      "outputs": [
        {
          "output_type": "execute_result",
          "data": {
            "text/plain": [
              "'Impeachment Briefing: What Happened Today'"
            ]
          },
          "metadata": {
            "tags": []
          },
          "execution_count": 26
        }
      ]
    },
    {
      "cell_type": "code",
      "metadata": {
        "id": "3c9PtLEPYAoU",
        "colab_type": "code",
        "colab": {}
      },
      "source": [
        "df_spacy = list(nlp.pipe(df.body_content.tolist()))"
      ],
      "execution_count": 0,
      "outputs": []
    },
    {
      "cell_type": "code",
      "metadata": {
        "id": "mvdkX5ZJskmn",
        "colab_type": "code",
        "colab": {}
      },
      "source": [
        "df['spacy'] = df_spacy"
      ],
      "execution_count": 0,
      "outputs": []
    },
    {
      "cell_type": "code",
      "metadata": {
        "id": "Ktv9H1haYAoX",
        "colab_type": "code",
        "outputId": "2e818d78-e113-4c2a-ec6d-224813512a05",
        "colab": {
          "base_uri": "https://localhost:8080/",
          "height": 354
        }
      },
      "source": [
        "for i in range(len(df)):\n",
        "    df.loc[i, 'spacy'] = next(df_spacy)"
      ],
      "execution_count": 33,
      "outputs": [
        {
          "output_type": "error",
          "ename": "ValueError",
          "evalue": "ignored",
          "traceback": [
            "\u001b[0;31m---------------------------------------------------------------------------\u001b[0m",
            "\u001b[0;31mValueError\u001b[0m                                Traceback (most recent call last)",
            "\u001b[0;32m<ipython-input-33-9ab2f02ad630>\u001b[0m in \u001b[0;36m<module>\u001b[0;34m()\u001b[0m\n\u001b[1;32m      1\u001b[0m \u001b[0;32mfor\u001b[0m \u001b[0mi\u001b[0m \u001b[0;32min\u001b[0m \u001b[0mrange\u001b[0m\u001b[0;34m(\u001b[0m\u001b[0mlen\u001b[0m\u001b[0;34m(\u001b[0m\u001b[0mdf\u001b[0m\u001b[0;34m)\u001b[0m\u001b[0;34m)\u001b[0m\u001b[0;34m:\u001b[0m\u001b[0;34m\u001b[0m\u001b[0;34m\u001b[0m\u001b[0m\n\u001b[0;32m----> 2\u001b[0;31m     \u001b[0mdf\u001b[0m\u001b[0;34m.\u001b[0m\u001b[0mloc\u001b[0m\u001b[0;34m[\u001b[0m\u001b[0mi\u001b[0m\u001b[0;34m,\u001b[0m \u001b[0;34m'spacy'\u001b[0m\u001b[0;34m]\u001b[0m \u001b[0;34m=\u001b[0m \u001b[0mnext\u001b[0m\u001b[0;34m(\u001b[0m\u001b[0mdf_spacy\u001b[0m\u001b[0;34m)\u001b[0m\u001b[0;34m\u001b[0m\u001b[0;34m\u001b[0m\u001b[0m\n\u001b[0m",
            "\u001b[0;32m/usr/local/lib/python3.6/dist-packages/pandas/core/indexing.py\u001b[0m in \u001b[0;36m__setitem__\u001b[0;34m(self, key, value)\u001b[0m\n\u001b[1;32m    203\u001b[0m             \u001b[0mkey\u001b[0m \u001b[0;34m=\u001b[0m \u001b[0mcom\u001b[0m\u001b[0;34m.\u001b[0m\u001b[0mapply_if_callable\u001b[0m\u001b[0;34m(\u001b[0m\u001b[0mkey\u001b[0m\u001b[0;34m,\u001b[0m \u001b[0mself\u001b[0m\u001b[0;34m.\u001b[0m\u001b[0mobj\u001b[0m\u001b[0;34m)\u001b[0m\u001b[0;34m\u001b[0m\u001b[0;34m\u001b[0m\u001b[0m\n\u001b[1;32m    204\u001b[0m         \u001b[0mindexer\u001b[0m \u001b[0;34m=\u001b[0m \u001b[0mself\u001b[0m\u001b[0;34m.\u001b[0m\u001b[0m_get_setitem_indexer\u001b[0m\u001b[0;34m(\u001b[0m\u001b[0mkey\u001b[0m\u001b[0;34m)\u001b[0m\u001b[0;34m\u001b[0m\u001b[0;34m\u001b[0m\u001b[0m\n\u001b[0;32m--> 205\u001b[0;31m         \u001b[0mself\u001b[0m\u001b[0;34m.\u001b[0m\u001b[0m_setitem_with_indexer\u001b[0m\u001b[0;34m(\u001b[0m\u001b[0mindexer\u001b[0m\u001b[0;34m,\u001b[0m \u001b[0mvalue\u001b[0m\u001b[0;34m)\u001b[0m\u001b[0;34m\u001b[0m\u001b[0;34m\u001b[0m\u001b[0m\n\u001b[0m\u001b[1;32m    206\u001b[0m \u001b[0;34m\u001b[0m\u001b[0m\n\u001b[1;32m    207\u001b[0m     \u001b[0;32mdef\u001b[0m \u001b[0m_validate_key\u001b[0m\u001b[0;34m(\u001b[0m\u001b[0mself\u001b[0m\u001b[0;34m,\u001b[0m \u001b[0mkey\u001b[0m\u001b[0;34m,\u001b[0m \u001b[0maxis\u001b[0m\u001b[0;34m:\u001b[0m \u001b[0mint\u001b[0m\u001b[0;34m)\u001b[0m\u001b[0;34m:\u001b[0m\u001b[0;34m\u001b[0m\u001b[0;34m\u001b[0m\u001b[0m\n",
            "\u001b[0;32m/usr/local/lib/python3.6/dist-packages/pandas/core/indexing.py\u001b[0m in \u001b[0;36m_setitem_with_indexer\u001b[0;34m(self, indexer, value)\u001b[0m\n\u001b[1;32m    545\u001b[0m                     \u001b[0;32mif\u001b[0m \u001b[0mlen\u001b[0m\u001b[0;34m(\u001b[0m\u001b[0mlabels\u001b[0m\u001b[0;34m)\u001b[0m \u001b[0;34m!=\u001b[0m \u001b[0mlen\u001b[0m\u001b[0;34m(\u001b[0m\u001b[0mvalue\u001b[0m\u001b[0;34m)\u001b[0m\u001b[0;34m:\u001b[0m\u001b[0;34m\u001b[0m\u001b[0;34m\u001b[0m\u001b[0m\n\u001b[1;32m    546\u001b[0m                         raise ValueError(\n\u001b[0;32m--> 547\u001b[0;31m                             \u001b[0;34m\"Must have equal len keys and value \"\u001b[0m\u001b[0;34m\u001b[0m\u001b[0;34m\u001b[0m\u001b[0m\n\u001b[0m\u001b[1;32m    548\u001b[0m                             \u001b[0;34m\"when setting with an iterable\"\u001b[0m\u001b[0;34m\u001b[0m\u001b[0;34m\u001b[0m\u001b[0m\n\u001b[1;32m    549\u001b[0m                         )\n",
            "\u001b[0;31mValueError\u001b[0m: Must have equal len keys and value when setting with an iterable"
          ]
        }
      ]
    },
    {
      "cell_type": "code",
      "metadata": {
        "id": "h92aTxTDYAoa",
        "colab_type": "code",
        "colab": {}
      },
      "source": [
        "# [sent for sent in df.spacy[0].sents]"
      ],
      "execution_count": 0,
      "outputs": []
    },
    {
      "cell_type": "code",
      "metadata": {
        "id": "2fNR0xwdYAoc",
        "colab_type": "code",
        "colab": {}
      },
      "source": [
        "TRAIN_DATA = [\n",
        "    (\"He told us a very exciting adventure story.\", {\"cats\": {\"POSITIVE\": 1.0, \"NEGATIVE\": 0.0}}),\n",
        "    (\"She wrote him a long letter, but he didn't read it.\", {\"cats\": {\"POSITIVE\": 0.0, \"NEGATIVE\": 1.0}}),\n",
        "    (\"I am never at home on Sundays.\", {\"cats\": {\"POSITIVE\": 0.0, \"NEGATIVE\": 1.0}}),\n",
        "    (\"He ran out of money, so he had to stop playing poker.\", {\"cats\": {\"POSITIVE\": 0.0, \"NEGATIVE\": 1.0}}),\n",
        "]"
      ],
      "execution_count": 0,
      "outputs": []
    },
    {
      "cell_type": "code",
      "metadata": {
        "id": "lfMC5KkqYAoe",
        "colab_type": "code",
        "outputId": "ff9e606c-6882-4e0d-856c-418a013bc305",
        "colab": {}
      },
      "source": [
        "TRAIN_DATA"
      ],
      "execution_count": 0,
      "outputs": [
        {
          "output_type": "execute_result",
          "data": {
            "text/plain": [
              "[(\"She wrote him a long letter, but he didn't read it.\",\n",
              "  {'cats': {'POSITIVE': 0.0, 'NEGATIVE': 1.0}}),\n",
              " ('He ran out of money, so he had to stop playing poker.',\n",
              "  {'cats': {'POSITIVE': 0.0, 'NEGATIVE': 1.0}}),\n",
              " ('He told us a very exciting adventure story.',\n",
              "  {'cats': {'POSITIVE': 1.0, 'NEGATIVE': 0.0}}),\n",
              " ('I am never at home on Sundays.',\n",
              "  {'cats': {'POSITIVE': 0.0, 'NEGATIVE': 1.0}})]"
            ]
          },
          "metadata": {
            "tags": []
          },
          "execution_count": 47
        }
      ]
    },
    {
      "cell_type": "code",
      "metadata": {
        "id": "Vn0A-li-YAog",
        "colab_type": "code",
        "colab": {}
      },
      "source": [
        "data = [(df.body_content[i], {\"cats\": {\"SATIRE\": 0.0, \"NOT_SATIRE\": 0.0}}) for i in range(20)]"
      ],
      "execution_count": 0,
      "outputs": []
    },
    {
      "cell_type": "code",
      "metadata": {
        "id": "4GoQaIvzYAoi",
        "colab_type": "code",
        "colab": {}
      },
      "source": [
        "for i in range(10):\n",
        "    data[i][1]['cats']['NOT_SATIRE'] = 1.0\n",
        "    \n",
        "for i in range(10, 20):\n",
        "    data[i][1]['cats']['SATIRE'] = 1.0"
      ],
      "execution_count": 0,
      "outputs": []
    },
    {
      "cell_type": "code",
      "metadata": {
        "id": "PbMHHYqdYAol",
        "colab_type": "code",
        "outputId": "d1e2879b-628d-4009-cbe5-f69e86d0b435",
        "colab": {
          "base_uri": "https://localhost:8080/",
          "height": 36
        }
      },
      "source": [
        "len(data)"
      ],
      "execution_count": 47,
      "outputs": [
        {
          "output_type": "execute_result",
          "data": {
            "text/plain": [
              "20"
            ]
          },
          "metadata": {
            "tags": []
          },
          "execution_count": 47
        }
      ]
    },
    {
      "cell_type": "code",
      "metadata": {
        "id": "3PKWQPxBYAop",
        "colab_type": "code",
        "outputId": "ecb35fbe-5bd2-4858-9b80-1cad29568b1a",
        "colab": {
          "base_uri": "https://localhost:8080/",
          "height": 36
        }
      },
      "source": [
        "spacy.prefer_gpu()"
      ],
      "execution_count": 48,
      "outputs": [
        {
          "output_type": "execute_result",
          "data": {
            "text/plain": [
              "True"
            ]
          },
          "metadata": {
            "tags": []
          },
          "execution_count": 48
        }
      ]
    },
    {
      "cell_type": "code",
      "metadata": {
        "scrolled": true,
        "id": "WIgiKnFXYAov",
        "colab_type": "code",
        "outputId": "64f7ab94-bc63-49f2-aad3-6a6df199c651",
        "colab": {
          "base_uri": "https://localhost:8080/",
          "height": 75
        }
      },
      "source": [
        "is_using_gpu = spacy.prefer_gpu()\n",
        "if is_using_gpu:\n",
        "    torch.set_default_tensor_type(\"torch.cuda.FloatTensor\")\n",
        "\n",
        "nlp = spacy.load(\"en_trf_bertbaseuncased_lg\")\n",
        "print(nlp.pipe_names) # [\"sentencizer\", \"trf_wordpiecer\", \"trf_tok2vec\"]\n",
        "\n",
        "\n",
        "textcat = nlp.create_pipe(\"trf_textcat\", config={\n",
        "    \"exclusive_classes\": True})\n",
        "for label in (\"SATIRE\", \"NOT_SATIRE\"):\n",
        "    textcat.add_label(label)\n",
        "nlp.add_pipe(textcat)\n",
        "'''\n",
        "optimizer = nlp.resume_training()\n",
        "for i in range(10):\n",
        "    random.shuffle(data)\n",
        "    losses = {}\n",
        "    for batch in minibatch(data, size=5):\n",
        "        texts, cats = zip(*batch)\n",
        "        nlp.update(texts, cats, sgd=optimizer, losses=losses)\n",
        "    print(i, losses)\n",
        "'''"
      ],
      "execution_count": 50,
      "outputs": [
        {
          "output_type": "stream",
          "text": [
            "['sentencizer', 'trf_wordpiecer', 'trf_tok2vec']\n"
          ],
          "name": "stdout"
        },
        {
          "output_type": "execute_result",
          "data": {
            "text/plain": [
              "'\\noptimizer = nlp.resume_training()\\nfor i in range(10):\\n    random.shuffle(data)\\n    losses = {}\\n    for batch in minibatch(data, size=5):\\n        texts, cats = zip(*batch)\\n        nlp.update(texts, cats, sgd=optimizer, losses=losses)\\n    print(i, losses)\\n'"
            ]
          },
          "metadata": {
            "tags": []
          },
          "execution_count": 50
        }
      ]
    },
    {
      "cell_type": "code",
      "metadata": {
        "id": "SPJmYRixqV26",
        "colab_type": "code",
        "outputId": "fb73ba38-6722-4cbd-af44-5e5057a37e39",
        "colab": {
          "base_uri": "https://localhost:8080/",
          "height": 34
        }
      },
      "source": [
        "print(nlp.pipe_names)"
      ],
      "execution_count": 0,
      "outputs": [
        {
          "output_type": "stream",
          "text": [
            "['sentencizer', 'trf_wordpiecer', 'trf_tok2vec', 'trf_textcat']\n"
          ],
          "name": "stdout"
        }
      ]
    },
    {
      "cell_type": "code",
      "metadata": {
        "id": "VF6QW1NTvq0K",
        "colab_type": "code",
        "colab": {
          "base_uri": "https://localhost:8080/",
          "height": 150
        },
        "outputId": "581aecbd-2de2-4d27-962b-682d086021ac"
      },
      "source": [
        "nlp.pipeline"
      ],
      "execution_count": 54,
      "outputs": [
        {
          "output_type": "execute_result",
          "data": {
            "text/plain": [
              "[('sentencizer', <spacy.pipeline.pipes.Sentencizer at 0x7fad221f7240>),\n",
              " ('trf_wordpiecer',\n",
              "  <spacy_transformers.pipeline.wordpiecer.TransformersWordPiecer at 0x7fad221f77f0>),\n",
              " ('trf_tok2vec',\n",
              "  <spacy_transformers.pipeline.tok2vec.TransformersTok2Vec at 0x7fad221f7780>),\n",
              " ('trf_textcat',\n",
              "  <spacy_transformers.pipeline.textcat.TransformersTextCategorizer at 0x7fad221f7518>)]"
            ]
          },
          "metadata": {
            "tags": []
          },
          "execution_count": 54
        }
      ]
    },
    {
      "cell_type": "code",
      "metadata": {
        "id": "TvOyNbr9YAox",
        "colab_type": "code",
        "colab": {}
      },
      "source": [
        "test_text = 'Stressing the need for inclusivity and intersectionality in the 2020 Democratic primaries, local Bernie Sanders supporter Kevin Randall took to Facebook Wednesday to stress the importance of listening to minority voices, just not any of the ones that have handed victory to Joe Biden. “We need to make clear that, with the exception of those who showed up in droves to vote for Biden in South Carolina and on Super Tuesday, our movement has room for all people of color,” wrote Randall, who explained that it’s important to avoid becoming siloed within one’s own narrow worldview and to empathize with Americans from every background who did not just make Biden the new frontrunner last night. “Marginalized groups are being shut out of these conversations, so we need to take a moment to hear what, in particular, 18-to-35-year-old, college-educated, progressive black and Latino voters from western states have to say. They, along with the tiny minority of working-class citizens in disenfranchised minority communities who object to the moderate platform of Joe Biden, should not be made to feel invisible in our democracy.” Randall later added that it was also important to listen to older Jewish people, except for the ones who cast ballots for Mike Bloomberg.'"
      ],
      "execution_count": 0,
      "outputs": []
    },
    {
      "cell_type": "code",
      "metadata": {
        "id": "1YRgLseqYAo0",
        "colab_type": "code",
        "outputId": "06746408-ecd6-4e76-d68e-a55f09c9f6c1",
        "colab": {
          "base_uri": "https://localhost:8080/",
          "height": 34
        }
      },
      "source": [
        "t_doc = nlp(test_text)\n",
        "print(t_doc.cats)"
      ],
      "execution_count": 0,
      "outputs": [
        {
          "output_type": "stream",
          "text": [
            "{'SATIRE': 0.4748254716396332, 'NOT_SATIRE': 0.5251744985580444}\n"
          ],
          "name": "stdout"
        }
      ]
    },
    {
      "cell_type": "code",
      "metadata": {
        "id": "H11K7SvAYAo2",
        "colab_type": "code",
        "colab": {}
      },
      "source": [
        "test_text = 'Since the 2016 election, when Russian trolls and a tsunami of misinformation turned social media into a partisan battlefield, Facebook has wrestled with the role it played in President Trump’s victory. Now, according to a memo obtained by The New York Times, a longtime Facebook executive has told employees that the company had a moral duty not to tilt the scales against Mr. Trump as he seeks re-election.On Dec. 30, Andrew Bosworth, the head of Facebook’s virtual and augmented reality division, wrote on his internal Facebook page that, as a liberal, he found himself wanting to use the social network’s powerful platform against Mr. Trump. But citing the “Lord of the Rings” franchise and the philosopher John Rawls, Mr. Bosworth said that doing so would eventually backfire.“I find myself desperately wanting to pull any lever at my disposal to avoid the same result,” he wrote. “So what stays my hand? I find myself thinking of the Lord of the Rings at this moment. “Specifically when Frodo offers the ring to Galadrial and she imagines using the power righteously, at first, but knows it will eventually corrupt her,” he said, misspelling the name of the character Galadriel. “As tempting as it is to use the tools available to us to change the outcome, I am confident we must never do that or we will become that which we fear.”In a meandering 2,500-word post, titled “Thoughts for 2020,” Mr. Bosworth weighed in on issues including political polarization, Russian interference and the news media’s treatment of Facebook. He gave a frank assessment of Facebook’s shortcomings in recent years, saying that the company had been “late” to address the issues of data security, misinformation and foreign interference. And he accused the left of overreach, saying that when it came to calling people Nazis, “I think my fellow liberals are a bit too, well, liberal.”Mr. Bosworth also waded into the debate over the health effects of social media, rejecting what he called “wildly offensive” comparisons of Facebook to addictive substances like nicotine. He instead compared Facebook to sugar, and said users were responsible for moderating their own intake.“If I want to eat sugar and die an early death that is a valid position,” Mr. Bosworth wrote. “My grandfather took such a stance towards bacon and I admired him for it. And social media is likely much less fatal than bacon.”The post by Mr. Bosworth, a former head of Facebook’s advertising team, provides an unusually candid glimpse of the debates raging within Facebook about the platform’s responsibilities as it heads into the 2020 election.The biggest of those debates is whether Facebook should change its rules governing political speech. Posts by politicians are exempt from many of Facebook’s current rules, and their ads are not submitted for fact-checking, giving them license to mislead voters with partisan misinformation.Last year, platforms like Twitter and Google announced restrictions to their political advertising tools ahead of the 2020 election. Facebook and its chief executive, Mark Zuckerberg, have faced heavy pressure from Democrats and Republicans, including Mr. Trump’s campaign, not to restrict its own powerful ad platform, which allows political campaigns to reach targeted audiences and raise money from supporters. But other politicians, and some Facebook employees, including a group that petitioned Mr. Zuckerberg in October, have argued that the social network has a responsibility to stamp out misinformation on its platform, including in posts by politicians.Mr. Bosworth said that even though keeping the current policies in place “very well may lead to” Mr. Trump’s re-election, it was the right decision. Dozens of Facebook employees pushed back on Mr. Bosworth’s conclusions, arguing in the comments section below his post that politicians should be held to the same standard as other Facebook users. They debated whether Facebook should ban or remove posts by politicians, including Mr. Trump, that included hate speech or forms of misinformation.One Facebook employee warned that if the company continued to take its current approach, it risked promoting populist leaders around the world, including in the United States.A Facebook spokeswoman provided a statement from Mr. Bosworth in which he said that the post “wasn’t written for public consumption,” but that he “hoped this post would encourage my co-workers to continue to accept criticism with grace as we accept the responsibility we have overseeing our platform.”Ultimately, the decision on whether to allow politicians to spread misinformation on Facebook rests with Mr. Zuckerberg. In recent months, he has appeared to stand firm on the decision to keep the existing ad policies in place, saying that he believes Facebook should not become an arbiter of truth. But he has also left himself room to change his mind. In November, a Facebook spokesman said the company was “looking at different ways we might refine our approach to political ads.”Among those lobbying Mr. Zuckerberg is President Trump himself, who claimed on a radio show on Monday that Mr. Zuckerberg had congratulated him on being “No. 1” on Facebook during a private dinner. Mr. Bosworth said he believed Facebook was responsible for Mr. Trump’s 2016 election victory, but not because of Russian interference or the Cambridge Analytica scandal, in which millions of Facebook users’ data was leaked to a political strategy firm that worked with the Trump campaign. Mr. Bosworth said the fallout from the Cambridge Analytica revelations — uncovered by The Times, working with The Observer of London and The Guardian — rightly changed the conversation around how Facebook should handle user data, and which companies should be given access to that data.But, he said, Mr. Trump simply used Facebook’s advertising tools effectively.“He didn’t get elected because of Russia or misinformation or Cambridge Analytica,” Mr. Bosworth wrote. “He got elected because he ran the single best digital ad campaign I’ve ever seen from any advertiser. Period.”Mr. Bosworth, a longtime confidant of Mr. Zuckerberg’s who is viewed by some inside Facebook as a proxy for the chief executive, has been an outspoken defender of the company’s positions in the past. In 2018, BuzzFeed News published a memo Mr. Bosworth wrote in 2016 justifying the company’s growth-at-all-costs ethos, in which he said the company’s mission of connecting people was “de facto good,” even if it resulted in deaths.After the memo’s publication, a Facebook executive said the company wished it could “go back and hit delete” on Mr. Bosworth’s 2016 post.'"
      ],
      "execution_count": 0,
      "outputs": []
    },
    {
      "cell_type": "code",
      "metadata": {
        "id": "tGngTvdeYAo4",
        "colab_type": "code",
        "outputId": "a1e1c662-4e57-4dae-ba12-65225060f1a4",
        "colab": {
          "base_uri": "https://localhost:8080/",
          "height": 34
        }
      },
      "source": [
        "t_doc = nlp(test_text)\n",
        "print(t_doc.cats)"
      ],
      "execution_count": 0,
      "outputs": [
        {
          "output_type": "stream",
          "text": [
            "{'SATIRE': 0.4748254716396332, 'NOT_SATIRE': 0.5251744985580444}\n"
          ],
          "name": "stdout"
        }
      ]
    },
    {
      "cell_type": "code",
      "metadata": {
        "id": "AoU0Nr56YAo6",
        "colab_type": "code",
        "colab": {}
      },
      "source": [
        "test_text = 'The wars and insurgencies that battered the Middle East over the last decade delivered not only a horrible toll of death and displacement, but also a wasteland of cultural destruction, reducing to rubble the Assyrian gates of Nineveh, the Great Mosque of Aleppo and countless other treasures, ancient and modern.This past weekend the American commander-in-chief, scrambling to contain the fallout from the killing of Maj. Gen. Qassim Suleimani of Iran,  proclaimed via Twitter that “if Iran strikes any Americans,”\\u200c the United States would retaliate by blasting a list of 52 Iranian sites that he said were “important to Iran & the Iranian culture.” Historians, legal scholars, and Democrats such as Senator Elizabeth Warren noted that targeting sites of cultural importance in this way would constitute a war crime — and even Secretary of State Mike Pompeo went out of his way to clarify on Sunday morning television that “the American people should know that every target that we strike will be a lawful target.”But Mr. Trump reaffirmed that he saw culture as fair game. “They’re allowed to use roadside bombs and blow up our people,” the president told reporters on Air Force One. “And we’re not allowed to touch their cultural site? It doesn’t work that way.”Despite the president’s threats, Defense Secretary Mark T. Esper on Monday explicitly ruled out targeting cultural sites in Iran in response to any Iranian attacks. There’s a reason the Pentagon said as much: The targeted destruction of such antiquities is, unambiguously, a war crime. The most relevant legal instrument is the 1954 Hague Convention for the Protection of Cultural Property in the Event of Armed Conflict, adopted to prevent the type of plundering of art the Nazis undertook during World War II. The convention states, among other principles, that countries “shall refrain from any act directed by way of reprisals against cultural property.” (The United States Senate, with the support of the Bush administration, ratified the convention in 2008.) Such acts of war would also obviously violate the UNESCO\\u200c World Heritage Convention, which establishes that national treasures also form part of a protected global patrimony.  These are, indeed, live legal issues. In 2016, the International Criminal Court — to which the United States is still not a party — completed its first successful cultural war crimes prosecution, when a Malian extremist pleaded guilty to having demolished a mosque in the ancient city of Timbuktu. In 2017, the United Nations Security Council affirmed that “directing unlawful attacks against sites and buildings dedicated to religion, education, art, science or charitable purposes, or historic monuments, may constitute, under certain circumstances and pursuant to international law, a war crime.” The resolution was adopted unanimously; the ambassador representing the Trump administration noted that such “wanton devastation” was often the work of ISIS, Al Qaeda and the Taliban.But the Hague Convention and UNESCO’s efforts have proved woefully insufficient to stanch the global tide of cultural destruction — whether in the former Yugoslavia in the 1990s, in Afghanistan and the Caucasus in the 2000s and most recently in Syria and northern Iraq. The 2010s brought with them an appalling cataclysm of both pre-Islamic and Muslim sites there, sometimes as collateral damage and sometimes, horribly, as a deliberate act of war. And it is this pile of ruins that Mr. Trump, sounding more like an ISIS thug than the leader of the world’s most formidable military, threatened this weekend to increase.Some of the most egregious such destruction has been at Palmyra, the ancient city in the\\u200c Syrian desert, where ISIS\\u200c fighters blew up temples and beheaded a museum director. As numerous archaeologists pointed out at the time, ISIS\\u200c destroyed cultural sites not only to satisfy an extreme jihadist conviction, but as a deliberate provocation. Murdering one person, or a hundred people, is not enough for some; murdering history delivers another kind of damage.Iran is rich in antiquities. When Mr. Trump first made his threat, my mind went to the pre-Islamic city of Persepolis, the capital of Achaemenid Persia, with its colossal ruins of free-standing columns and bearded bulls. Nearby is the Tomb of Cyrus, built in the 6th century B.C., enclosing the bones of a ruler who conquered most of Western Asia.Islamic masterpieces include the beautiful, Safavid-period Sheikh Lotfollah Mosque in Isfahan and the Pink Mosque of Shiraz, whose stained-glass windows flood the halls of worship with colored light. Nor can modern creations — such as the Avicenna Mausoleum in Hamadan, dedicated to the greatest scholar of the Islamic Golden Age — be omitted from any list of sites of Iranian cultural significance.Museum directors, including the leaders of the Metropolitan Museum of Art in New York and the Victoria &\\u200c Albert Museum in London, have naturally voiced their disapproval. “Threatening cultural sites in Iran,”\\u200c said Thomas P. Campbell, the director of the Fine Arts Museums of San Francisco, “is to reduce Western values to those of the ISIS fanatics.” I\\u200c would go further:\\u200c it is not “Western” but global values that are debased with threats like this, and not just Iranian culture but global culture that is in danger. Yet even as the secretaries of defense and state insist that laws must be followed, Mr. Trump bemoans that “they” can do evil, but “we” cannot. He himself has expressed clearly enough that values, of any kind, are not the matter in question.As I came to terms with Mr. Trump’s threats, my mind kept flashing to a novel: J.M. Coetzee’s spare allegory “Waiting for the Barbarians,” which the South African writer published in 1980, during the years of apartheid. It’s a tale of a military operation, prosecuted by an empire grown old and fearful. The true barbarians, in Mr. Coetzee’s book, are not the insurgents; the barbarians are the men in power.“To the last we will have learned nothing,” says Mr. Coetzee’s narrator at the end. “In all of us, deep down, there seems to be something granite and unteachable.” A barbarian is someone who looks at culture and finds no beauty at all. A barbarian looks at a mosque or a burial mound, and dreams only of exacting pain.'"
      ],
      "execution_count": 0,
      "outputs": []
    },
    {
      "cell_type": "code",
      "metadata": {
        "id": "8pRpdSxbYAo8",
        "colab_type": "code",
        "outputId": "a7add14c-537d-4cf3-bab0-7d6d56c86bd6",
        "colab": {
          "base_uri": "https://localhost:8080/",
          "height": 34
        }
      },
      "source": [
        "t_doc = nlp(test_text)\n",
        "print(t_doc.cats)"
      ],
      "execution_count": 0,
      "outputs": [
        {
          "output_type": "stream",
          "text": [
            "{'SATIRE': 0.4748254716396332, 'NOT_SATIRE': 0.5251744985580444}\n"
          ],
          "name": "stdout"
        }
      ]
    },
    {
      "cell_type": "code",
      "metadata": {
        "id": "vc7U2TFwYAo_",
        "colab_type": "code",
        "colab": {}
      },
      "source": [
        "test_text = 'The field of Democrats vying to oust Representative Jeff Van Drew got more crowded on Monday as Amy Kennedy, the wife of former Representative Patrick Kennedy, entered the race, bringing the instant name recognition of a political dynasty to the New Jersey congressional race.Ms. Kennedy, who described herself as a former teacher and a mother of five in a minute-long YouTube video announcing her candidacy, did not mention Mr. Van Drew’s defection from the Democratic Party last month or his pledge of “undying support” for President Trump.But the video did include an image of Mr. Van Drew shaking the president’s hand in the Oval Office as he announced he would join the Republicans, one day after the South Jersey lawmaker voted against impeaching Mr. Trump. (The president repaid the favor on Monday, with his campaign saying he would appear at a rally in Mr. Van Drew’s district on Jan. 28.)“Too many of our leaders have lost their moral compass,” she said in the video clip. “Trump and Van Drew are symptoms of a bigger sickness infecting our country and our politics.” Ms. Kennedy’s husband is a former Rhode Island congressman and the son of former Senator Edward M. Kennedy of Massachusetts. Mr. Van Drew, a first-term congressman who was elected as a conservative Democrat, represents a district the Republican president won by about 5 points in 2016. Ms. Kennedy, in the brief video, touched on what are likely to form the broad themes of her campaign: civility, climate change, mental health and addiction, and corporate tax incentives.“We continue to ignore the biggest public health emergency of our time — the mental health and addiction crisis that affects virtually every family,” she said. She added, “People in South Jersey can’t find good jobs, but the richest corporations pay almost no taxes.” Ms. Kennedy, who lives north of Atlantic City in Brigantine, could not be reached for comment. If Ms. Kennedy were to win the nomination, she would not be the only Kennedy campaigning for Congress. Representative Joe Kennedy III, the grandson of the former attorney general, Robert F. Kennedy, is running for the Senate from Massachusetts.Four other Democrats have already entered the primary race in the Second Congressional District, which cuts across New Jersey’s southernmost counties and stretches from Cape May to the Pennsylvania border. Brigid Callahan Harrison, a professor who teaches political science at Montclair State University, announced her candidacy the same week Mr. Van Drew said he would join the Republicans, a shift that prompted most of his staff members to quit. Professor Harrison was quickly endorsed by many of the Democratic Party leaders in the district who hold sway over whose name will appear on the party’s coveted ballot line in the June primary. Ashley Bennett, a freeholder representing Atlantic County who appeared on a 2018 cover of Time magazine with other progressive women, also has announced she is running for the Democratic nomination for the congressional seat. Ms. Bennett has said she intends to focus on issues affecting New Jersey’s working class, and is likely to draw support from the state’s increasingly active grass-roots organizations.John Francis III, a commissioner in West Cape May, and Robert Turkavage, a former F.B.I. agent who last month switched from the Republican Party to the Democratic Party, have also announced they will run in the Democratic primary.At least three Republicans, including David Richter, a former businessman who has said he will spend $1 million of his own money on his campaign, also are expected to compete against Mr. Van Drew for the Republican nomination.Benjamin A. Dworkin, a professor of political science at Rowan University and the director of the school’s Institute for Public Policy & Citizenship, said Ms. Kennedy’s entry into the race had the potential to change the playing field.He noted that the Democratic candidates’ success at raising campaign funds is likely to be key to the primary race and the general election, especially in southern New Jersey, which is within the pricey Philadelphia media market. Professor Harrison’s support from established Democratic Party leaders in the area will presumably help her fund-raising efforts, he said, and the Kennedy family’s network of donors is expected to work to Ms. Kennedy’s advantage. “There is an established Kennedy fund-raising network that she will be able to tap into and will allow her to be well financed in this race, which really matters,” Dr. Dworkin said. A candidate’s ability to independently generate funds is even more crucial in a year when the national Democratic organization is likely to be focused on protecting the three other congressional seats that the party flipped in 2018 in New Jersey swing districts, he said. “Democrats don’t need it as much as they did in 2018,” Dr. Dworkin said. “You could lose Van Drew’s seat and still maintain the majority, so it’s not nearly as critical.”Professor Harrison said she welcomed all opponents. “The more the merrier,” she said. “This is healthy for our democracy. Primaries are important. It’s a way for parties to flesh out their views.”The Democrat who does win is expected to face a major challenge in November’s general election in a conservative district that for 24 years before Mr. Van Drew’s election was held by a Republican. Last year, Republicans captured several seats in the State Legislature in an election area that overlaps much of Mr. Van Drew’s district. Still, Mr. Trump’s support for the Republican candidate is also a wild-card factor that could cut both ways in a state where the president remains deeply unpopular. “This is going to be a very tough race in November,” Professor Harrison said.'"
      ],
      "execution_count": 0,
      "outputs": []
    },
    {
      "cell_type": "code",
      "metadata": {
        "id": "5qvTPTjDYApA",
        "colab_type": "code",
        "outputId": "34e3c142-5200-4068-b529-764be96c2b72",
        "colab": {
          "base_uri": "https://localhost:8080/",
          "height": 34
        }
      },
      "source": [
        "t_doc = nlp(test_text)\n",
        "print(t_doc.cats)"
      ],
      "execution_count": 0,
      "outputs": [
        {
          "output_type": "stream",
          "text": [
            "{'SATIRE': 0.4748254716396332, 'NOT_SATIRE': 0.5251744985580444}\n"
          ],
          "name": "stdout"
        }
      ]
    },
    {
      "cell_type": "code",
      "metadata": {
        "id": "NxHEXavmYApC",
        "colab_type": "code",
        "outputId": "b9eb6fc3-d43d-4f41-f99d-85dca691bbfc",
        "colab": {}
      },
      "source": [
        "print(nlp.pipe_names)"
      ],
      "execution_count": 0,
      "outputs": [
        {
          "output_type": "stream",
          "text": [
            "['sentencizer', 'trf_wordpiecer', 'trf_tok2vec', 'trf_textcat']\n"
          ],
          "name": "stdout"
        }
      ]
    },
    {
      "cell_type": "code",
      "metadata": {
        "id": "JHZN2Ia_YApE",
        "colab_type": "code",
        "colab": {}
      },
      "source": [
        ""
      ],
      "execution_count": 0,
      "outputs": []
    },
    {
      "cell_type": "code",
      "metadata": {
        "id": "Fi0UdZwLYApG",
        "colab_type": "code",
        "colab": {}
      },
      "source": [
        ""
      ],
      "execution_count": 0,
      "outputs": []
    },
    {
      "cell_type": "markdown",
      "metadata": {
        "id": "s-XUCC4fYApI",
        "colab_type": "text"
      },
      "source": [
        " "
      ]
    },
    {
      "cell_type": "code",
      "metadata": {
        "id": "jJQ1oQO2YApJ",
        "colab_type": "code",
        "outputId": "6b234f1a-f848-4e93-d88d-3920e0ccffae",
        "colab": {}
      },
      "source": [
        "# is_using_gpu = spacy.prefer_gpu()\n",
        "# if is_using_gpu:\n",
        "#     torch.set_default_tensor_type(\"torch.cuda.FloatTensor\")\n",
        "\n",
        "# nlp = spacy.load(\"en_trf_bertbaseuncased_lg\")\n",
        "# print(nlp.pipe_names) # [\"sentencizer\", \"trf_wordpiecer\", \"trf_tok2vec\"]\n",
        "\n",
        "\n",
        "# textcat = nlp.create_pipe(\"trf_textcat\", config={\"exclusive_classes\": True})\n",
        "# for label in (\"POSITIVE\", \"NEGATIVE\"):\n",
        "#     textcat.add_label(label)\n",
        "# nlp.add_pipe(textcat)\n",
        "\n",
        "# optimizer = nlp.resume_training()\n",
        "# for i in range(10):\n",
        "#     random.shuffle(TRAIN_DATA)\n",
        "#     losses = {}\n",
        "#     for batch in minibatch(TRAIN_DATA, size=8):\n",
        "#         texts, cats = zip(*batch)\n",
        "#         nlp.update(texts, cats, sgd=optimizer, losses=losses)\n",
        "#     print(i, losses)"
      ],
      "execution_count": 0,
      "outputs": [
        {
          "output_type": "stream",
          "text": [
            "0 {'trf_textcat': 0.03125}\n",
            "1 {'trf_textcat': 0.026715025305747986}\n",
            "2 {'trf_textcat': 0.026777077466249466}\n",
            "3 {'trf_textcat': 0.02637639455497265}\n",
            "4 {'trf_textcat': 0.022400833666324615}\n",
            "5 {'trf_textcat': 0.024432551115751266}\n",
            "6 {'trf_textcat': 0.025477394461631775}\n",
            "7 {'trf_textcat': 0.026347920298576355}\n",
            "8 {'trf_textcat': 0.04688598960638046}\n",
            "9 {'trf_textcat': 0.024117356166243553}\n"
          ],
          "name": "stdout"
        }
      ]
    },
    {
      "cell_type": "code",
      "metadata": {
        "id": "K2rX7-sOYApL",
        "colab_type": "code",
        "outputId": "f6a48296-1752-41db-bc3c-7b671f0ea831",
        "colab": {}
      },
      "source": [
        "textcat.labels"
      ],
      "execution_count": 0,
      "outputs": [
        {
          "output_type": "execute_result",
          "data": {
            "text/plain": [
              "('SATIRE', 'NOT_SATIRE')"
            ]
          },
          "metadata": {
            "tags": []
          },
          "execution_count": 14
        }
      ]
    },
    {
      "cell_type": "code",
      "metadata": {
        "id": "UwXMQYhMYApO",
        "colab_type": "code",
        "colab": {}
      },
      "source": [
        ""
      ],
      "execution_count": 0,
      "outputs": []
    },
    {
      "cell_type": "code",
      "metadata": {
        "id": "eCpfZqj0YApP",
        "colab_type": "code",
        "colab": {}
      },
      "source": [
        ""
      ],
      "execution_count": 0,
      "outputs": []
    },
    {
      "cell_type": "code",
      "metadata": {
        "id": "QPE-YV3wYApR",
        "colab_type": "code",
        "colab": {}
      },
      "source": [
        ""
      ],
      "execution_count": 0,
      "outputs": []
    },
    {
      "cell_type": "code",
      "metadata": {
        "id": "uKCHaSSyYApU",
        "colab_type": "code",
        "colab": {}
      },
      "source": [
        ""
      ],
      "execution_count": 0,
      "outputs": []
    },
    {
      "cell_type": "code",
      "metadata": {
        "id": "_t9aFQgyYApW",
        "colab_type": "code",
        "colab": {}
      },
      "source": [
        ""
      ],
      "execution_count": 0,
      "outputs": []
    },
    {
      "cell_type": "code",
      "metadata": {
        "id": "tsDDdq9DYApY",
        "colab_type": "code",
        "colab": {}
      },
      "source": [
        ""
      ],
      "execution_count": 0,
      "outputs": []
    },
    {
      "cell_type": "code",
      "metadata": {
        "id": "USdir5GuYApa",
        "colab_type": "code",
        "colab": {}
      },
      "source": [
        ""
      ],
      "execution_count": 0,
      "outputs": []
    },
    {
      "cell_type": "markdown",
      "metadata": {
        "id": "Ypll4kdMYApb",
        "colab_type": "text"
      },
      "source": [
        "## spaCy Pipeline"
      ]
    },
    {
      "cell_type": "code",
      "metadata": {
        "id": "oEXgJYiBYApc",
        "colab_type": "code",
        "colab": {}
      },
      "source": [
        "nlp = spacy.load('en_core_web_lg')"
      ],
      "execution_count": 0,
      "outputs": []
    },
    {
      "cell_type": "code",
      "metadata": {
        "id": "MCL8RhLcYApe",
        "colab_type": "code",
        "outputId": "ba967ec4-2405-4617-b17e-0c8ed326ce24",
        "colab": {}
      },
      "source": [
        "df['spacy'] = df.body_contents.progress_apply(lambda x: nlp(x))"
      ],
      "execution_count": 0,
      "outputs": [
        {
          "output_type": "stream",
          "text": [
            "100%|██████████| 5175/5175 [13:42<00:00,  5.33it/s]\n"
          ],
          "name": "stderr"
        }
      ]
    },
    {
      "cell_type": "markdown",
      "metadata": {
        "id": "7e3EJftxYAph",
        "colab_type": "text"
      },
      "source": [
        "#### each document in the corpus is a doc object containing individual token objects"
      ]
    },
    {
      "cell_type": "code",
      "metadata": {
        "id": "2u-13Z3DYAph",
        "colab_type": "code",
        "colab": {}
      },
      "source": [
        "doc = df.spacy[0]\n",
        "# type(doc)"
      ],
      "execution_count": 0,
      "outputs": []
    },
    {
      "cell_type": "code",
      "metadata": {
        "id": "amxIR14DYApj",
        "colab_type": "code",
        "colab": {}
      },
      "source": [
        "type(doc[0])"
      ],
      "execution_count": 0,
      "outputs": []
    },
    {
      "cell_type": "code",
      "metadata": {
        "id": "DjWh2XRSYApm",
        "colab_type": "code",
        "outputId": "259a8584-994a-4806-8c80-1572dab104e9",
        "colab": {}
      },
      "source": [
        "doc[0:22]"
      ],
      "execution_count": 0,
      "outputs": [
        {
          "output_type": "execute_result",
          "data": {
            "text/plain": [
              "RIO DE JANEIRO — The Supreme Court on Thursday allowed Netflix to continue showing a short film depicting Jesus as a gay"
            ]
          },
          "metadata": {
            "tags": []
          },
          "execution_count": 10
        }
      ]
    },
    {
      "cell_type": "markdown",
      "metadata": {
        "id": "A0JGsXtlYApo",
        "colab_type": "text"
      },
      "source": [
        "#### check if stop word"
      ]
    },
    {
      "cell_type": "code",
      "metadata": {
        "id": "8Ow_I_fSYApp",
        "colab_type": "code",
        "outputId": "24cefd60-63ab-429e-d7be-5eb8fdf813d3",
        "colab": {}
      },
      "source": [
        "#weod is me\n",
        "doc[3].is_stop"
      ],
      "execution_count": 0,
      "outputs": [
        {
          "output_type": "execute_result",
          "data": {
            "text/plain": [
              "False"
            ]
          },
          "metadata": {
            "tags": []
          },
          "execution_count": 11
        }
      ]
    },
    {
      "cell_type": "markdown",
      "metadata": {
        "id": "xFRUuStAYAps",
        "colab_type": "text"
      },
      "source": [
        "#### part of speach tagging"
      ]
    },
    {
      "cell_type": "code",
      "metadata": {
        "id": "gKN3iQ2yYAps",
        "colab_type": "code",
        "outputId": "17f251fc-42d2-4cca-f027-52d296dfa6f8",
        "colab": {}
      },
      "source": [
        "doc[3].pos_"
      ],
      "execution_count": 0,
      "outputs": [
        {
          "output_type": "execute_result",
          "data": {
            "text/plain": [
              "'PUNCT'"
            ]
          },
          "metadata": {
            "tags": []
          },
          "execution_count": 19
        }
      ]
    },
    {
      "cell_type": "markdown",
      "metadata": {
        "id": "iO5F87VKYApt",
        "colab_type": "text"
      },
      "source": [
        "#### vector from loaded language model"
      ]
    },
    {
      "cell_type": "code",
      "metadata": {
        "id": "nIGKhjxHYApu",
        "colab_type": "code",
        "outputId": "cb3116df-2529-4a02-f558-4e7bd95fdeba",
        "colab": {}
      },
      "source": [
        "#stop words HAVE a vector representation\n",
        "doc[3].vector"
      ],
      "execution_count": 0,
      "outputs": [
        {
          "output_type": "execute_result",
          "data": {
            "text/plain": [
              "array([ 0.1132   ,  0.078801 ,  0.096305 ,  0.23504  , -0.36259  ,\n",
              "        0.13656  ,  0.15554  , -0.034401 ,  0.06931  ,  1.5164   ,\n",
              "       -0.095772 ,  0.18106  ,  0.0070116,  0.076588 , -0.11095  ,\n",
              "       -0.14212  ,  0.038581 ,  0.41424  ,  0.015848 ,  0.32631  ,\n",
              "       -0.37085  ,  0.2129   ,  0.10054  ,  0.10174  ,  0.017946 ,\n",
              "       -0.12194  , -0.24785  ,  0.05431  , -0.062132 , -0.29219  ,\n",
              "       -0.066424 , -0.24739  ,  0.074302 , -0.13307  ,  0.20834  ,\n",
              "        0.43916  ,  0.39267  ,  0.30455  ,  0.30627  ,  0.48467  ,\n",
              "       -0.020456 , -0.32191  ,  0.12028  , -0.026459 , -0.14916  ,\n",
              "       -0.018486 ,  0.039987 ,  0.098418 , -0.059193 ,  0.05374  ,\n",
              "       -0.10992  ,  0.2415   , -0.13961  , -0.23     , -0.13697  ,\n",
              "       -0.15004  ,  0.17248  , -0.032402 ,  0.26933  , -0.0075827,\n",
              "       -0.13855  , -0.10798  ,  0.46415  , -0.14027  , -0.4586   ,\n",
              "        0.12054  ,  0.20712  , -0.30182  , -0.31056  ,  0.47326  ,\n",
              "       -0.22381  , -0.20075  , -0.093021 ,  0.029636 , -0.035644 ,\n",
              "        0.1303   ,  0.1545   ,  0.035448 , -0.17392  , -0.11791  ,\n",
              "       -0.33299  ,  0.21497  ,  0.022728 ,  0.028379 , -0.17445  ,\n",
              "       -0.19422  , -0.32452  , -0.52413  ,  0.1457   ,  0.26651  ,\n",
              "       -0.012213 ,  0.14247  ,  0.11106  ,  0.28988  , -0.26948  ,\n",
              "        0.059532 , -0.33299  ,  0.22094  ,  0.049897 , -0.079663 ,\n",
              "       -0.07903  ,  0.16795  ,  0.021402 , -0.12012  ,  0.039825 ,\n",
              "        0.072599 ,  0.19316  , -0.39984  ,  0.063977 ,  0.30167  ,\n",
              "        0.10464  , -0.35863  ,  0.22529  , -0.06542  , -0.051101 ,\n",
              "        0.39749  , -0.28852  , -0.072306 , -0.21731  , -0.17337  ,\n",
              "       -0.30165  , -0.090183 ,  0.19083  , -0.027525 , -0.15528  ,\n",
              "        0.3367   ,  0.24245  ,  0.12029  ,  0.13537  ,  0.094604 ,\n",
              "       -0.12787  , -0.28899  ,  0.060825 ,  0.1284   , -0.28764  ,\n",
              "        0.13506  , -0.15959  , -0.19905  , -0.070117 , -0.03193  ,\n",
              "       -0.30042  ,  0.27422  , -0.15175  ,  0.079148 , -0.097341 ,\n",
              "       -0.067728 ,  0.20183  ,  0.45762  , -0.034611 ,  0.13159  ,\n",
              "        0.097701 ,  0.034222 , -0.061176 ,  0.11565  ,  0.035038 ,\n",
              "        0.020498 , -0.10435  , -0.5066   ,  0.46421  , -0.20978  ,\n",
              "        0.13486  , -0.1212   , -0.42006  ,  0.028234 , -0.39882  ,\n",
              "        0.60471  , -0.081958 , -0.076499 ,  0.077239 ,  0.23117  ,\n",
              "       -0.04722  ,  0.16657  ,  0.44462  , -0.076816 , -0.11339  ,\n",
              "       -0.21447  ,  0.073393 , -0.47542  , -0.071243 , -0.17448  ,\n",
              "       -0.3907   , -0.38307  ,  0.07508  , -0.080367 , -0.10334  ,\n",
              "       -0.016263 ,  0.10029  , -0.078572 , -0.36349  ,  0.16741  ,\n",
              "        0.18455  ,  0.086995 ,  0.47303  , -0.14153  ,  0.19017  ,\n",
              "       -0.41414  , -0.089991 ,  0.14634  , -0.1702   ,  0.26547  ,\n",
              "        0.084732 , -0.20462  ,  0.16814  ,  0.18323  , -0.46345  ,\n",
              "       -0.23056  , -0.018521 , -0.28236  ,  0.23774  ,  0.13379  ,\n",
              "       -0.051091 , -0.21279  , -0.32881  ,  0.30013  ,  0.041608 ,\n",
              "        0.015833 ,  0.48436  , -0.33818  , -0.19469  , -0.21012  ,\n",
              "        0.12771  ,  0.2179   , -0.15847  ,  0.3234   , -0.11614  ,\n",
              "       -0.58543  , -0.13875  ,  0.01722  , -0.37442  , -0.035343 ,\n",
              "        0.001957 , -0.17596  ,  0.019242 , -0.25968  , -0.08746  ,\n",
              "        0.37677  ,  0.053545 ,  0.047385 ,  0.14387  ,  0.37363  ,\n",
              "       -0.21887  , -0.3082   ,  0.037422 , -0.15666  , -0.037834 ,\n",
              "        0.51883  , -0.26047  , -0.0024208,  0.011997 ,  0.25047  ,\n",
              "       -0.26848  ,  0.39283  , -0.062016 , -0.30279  , -0.41597  ,\n",
              "        0.10586  ,  0.0028234,  0.090043 ,  0.057412 , -0.13354  ,\n",
              "        0.45155  , -0.304    , -0.11272  , -0.24915  , -0.33357  ,\n",
              "       -0.081633 , -0.063515 , -0.31751  ,  0.24648  , -0.24488  ,\n",
              "       -0.37946  , -0.12313  , -0.13168  , -0.017023 , -0.22001  ,\n",
              "       -0.2299   ,  0.053145 , -0.067598 ,  0.083277 ,  0.10821  ,\n",
              "        0.21068  , -0.37885  ,  0.035816 , -0.31059  ,  0.097416 ,\n",
              "       -0.091556 , -0.093295 , -0.081771 , -0.21361  ,  0.42577  ,\n",
              "       -0.29657  , -0.24091  , -0.28249  ,  0.090935 , -0.42689  ,\n",
              "       -0.25689  ,  0.19281  , -0.093061 ,  0.068792 , -0.34388  ],\n",
              "      dtype=float32)"
            ]
          },
          "metadata": {
            "tags": []
          },
          "execution_count": 13
        }
      ]
    },
    {
      "cell_type": "markdown",
      "metadata": {
        "id": "bzmS_p9-YApw",
        "colab_type": "text"
      },
      "source": [
        "#### vector representation of document (avg of all word vectors in doc)"
      ]
    },
    {
      "cell_type": "code",
      "metadata": {
        "id": "aghDxm1uYApw",
        "colab_type": "code",
        "outputId": "c2a94821-0061-4fcb-ce03-3b7615cffb69",
        "colab": {}
      },
      "source": [
        "doc.vector"
      ],
      "execution_count": 0,
      "outputs": [
        {
          "output_type": "execute_result",
          "data": {
            "text/plain": [
              "array([-3.66948396e-02,  1.44927919e-01, -3.05724666e-02, -2.56011318e-02,\n",
              "        6.29242137e-02,  1.03676282e-02,  1.59095787e-02, -3.72218527e-02,\n",
              "       -2.85173655e-02,  2.19058967e+00, -1.73543409e-01, -3.79465893e-02,\n",
              "        1.12466224e-01, -3.45393084e-02, -1.40530989e-01, -5.88814281e-02,\n",
              "       -2.42191181e-02,  7.94914484e-01, -1.06458172e-01, -2.80405227e-02,\n",
              "       -7.55504007e-03, -6.50168657e-02,  1.41568277e-02, -3.23714390e-02,\n",
              "        3.60870771e-02,  3.02221105e-02, -7.17342645e-02,  4.73544654e-03,\n",
              "       -1.78218484e-02, -4.43815589e-02, -5.26989950e-03,  4.53007594e-02,\n",
              "       -3.05329487e-02,  6.81177378e-02,  1.04016006e-01, -6.04782104e-02,\n",
              "       -3.37169878e-02, -6.27684370e-02, -3.01092770e-02, -4.69638705e-02,\n",
              "        5.62529489e-02,  6.23405538e-02,  3.20425741e-02, -1.09111756e-01,\n",
              "        3.65638398e-02, -6.37758663e-03, -1.06383361e-01, -4.37155329e-02,\n",
              "        1.77130625e-02, -6.31605741e-03, -6.58736899e-02,  8.85585397e-02,\n",
              "       -3.90622728e-02,  4.01888713e-02,  6.24954738e-02, -1.78311169e-02,\n",
              "        3.32955308e-02, -6.74688593e-02,  5.01529761e-02, -1.17620468e-01,\n",
              "       -4.23232727e-02,  1.68276336e-02,  2.11579539e-02,  1.43539354e-01,\n",
              "        3.67486738e-02, -9.10430104e-02, -9.22928005e-03, -5.56867644e-02,\n",
              "       -1.37296924e-02,  5.63011952e-02,  1.68392081e-02,  6.12907764e-03,\n",
              "        6.20990731e-02, -2.20259652e-02,  3.75747941e-02, -8.88441950e-02,\n",
              "        6.40125945e-03, -3.48619260e-02, -1.85692851e-02,  1.79614216e-01,\n",
              "       -1.74758360e-02,  7.05133528e-02, -8.19546431e-02, -2.45824992e-03,\n",
              "        1.87048893e-02, -1.46133795e-01, -1.07709982e-01, -1.91204771e-01,\n",
              "        1.08799115e-01,  1.91850662e-02, -3.19879800e-02,  1.88891143e-02,\n",
              "        1.29078999e-02,  5.14931306e-02,  1.12649605e-01, -2.22893897e-02,\n",
              "       -4.25469056e-02,  1.66485179e-02, -1.14269648e-02, -5.49734868e-02,\n",
              "       -2.11933888e-02,  9.42637324e-02, -7.81928599e-02, -3.46447192e-02,\n",
              "        6.65360466e-02, -6.92742467e-01,  2.17797775e-02,  4.00698707e-02,\n",
              "        2.33417079e-02, -2.28426103e-02, -2.66185291e-02, -2.45239539e-03,\n",
              "        1.64370181e-03, -9.61188301e-02, -9.58421547e-03,  3.15264915e-03,\n",
              "        1.55790355e-02,  1.90021601e-02, -3.74746285e-02, -3.43283303e-02,\n",
              "        1.57967545e-02,  4.90578869e-03, -3.57171297e-02,  3.97357298e-03,\n",
              "       -6.43233806e-02,  1.00745142e-01,  2.14675162e-02, -1.15622394e-01,\n",
              "       -9.33562592e-03,  1.95531026e-02, -4.84055318e-02, -8.12621340e-02,\n",
              "       -5.70119210e-02, -6.78133592e-02,  2.99861319e-02,  2.86966823e-02,\n",
              "       -3.59853171e-02,  4.18380313e-02, -2.48901378e-02, -2.67363489e-02,\n",
              "       -9.97438133e-01,  5.46516180e-02,  9.18129534e-02,  1.32209864e-02,\n",
              "        1.09776938e-02,  6.58592349e-03,  4.84019425e-03, -2.58146375e-02,\n",
              "        7.23644113e-03,  1.54548572e-04, -4.09564748e-02, -1.88678950e-02,\n",
              "        9.16003585e-02,  8.15427303e-03, -6.62024766e-02,  1.44525422e-02,\n",
              "       -1.14250220e-01, -4.00112346e-02, -2.99979430e-02, -2.53646728e-02,\n",
              "       -3.61333117e-02,  4.80684265e-02, -3.04297190e-02, -1.61869861e-02,\n",
              "       -1.49647295e-01, -4.40539382e-02,  1.94287673e-02, -7.20107928e-03,\n",
              "        1.08493358e-01,  2.42554024e-02,  1.82767790e-02, -2.40153261e-02,\n",
              "        2.87991595e-02,  9.73854959e-03, -6.59843385e-02,  1.88856367e-02,\n",
              "        6.42671296e-03, -4.46296744e-02, -5.77939628e-03, -8.25507492e-02,\n",
              "       -3.54332849e-02, -5.38497716e-02, -6.93036020e-02, -9.28986818e-02,\n",
              "        5.70577476e-03,  1.13632837e-02, -5.91935450e-03,  5.00271507e-02,\n",
              "        3.56549770e-02, -1.34199194e-03, -4.47055288e-02, -1.22960266e-02,\n",
              "       -8.32895711e-02,  9.28926915e-02,  4.03256975e-02,  8.73399973e-02,\n",
              "       -3.82952504e-02, -4.84439619e-02, -6.12926781e-02,  1.09654307e-01,\n",
              "        2.60066055e-02,  1.69159453e-02, -3.73594388e-02,  1.52409803e-02,\n",
              "        1.77675366e-01, -2.26618145e-02,  3.89240198e-02, -5.18321665e-03,\n",
              "       -1.80162247e-02,  3.17501724e-02, -5.30126803e-02,  2.13994011e-02,\n",
              "       -4.22922745e-02, -5.82929105e-02,  7.30006024e-02,  1.21023744e-01,\n",
              "       -6.21771738e-02,  2.28961669e-02, -9.73772332e-02, -9.61761456e-03,\n",
              "       -2.49383952e-02,  2.03798581e-02, -8.19367468e-02,  4.00189050e-02,\n",
              "       -1.15050543e-02, -3.64746824e-02, -1.99025907e-02,  7.12804943e-02,\n",
              "        4.21690270e-02,  6.17509633e-02, -6.11725971e-02,  8.60988572e-02,\n",
              "        2.00910699e-02,  3.31497341e-02, -1.22324444e-01, -7.61346444e-02,\n",
              "       -2.79889219e-02, -3.92337553e-02, -3.84373851e-02,  4.70516272e-02,\n",
              "        3.16421911e-02,  2.93775573e-02,  9.39752385e-02, -4.78777429e-03,\n",
              "        8.65136459e-02, -4.25387956e-02,  3.01196445e-02, -7.80701935e-02,\n",
              "       -1.28515810e-01,  2.08760356e-03,  1.12397186e-02,  3.03946715e-02,\n",
              "        6.26997324e-03, -5.59970364e-02,  1.49297798e-02,  1.76122174e-01,\n",
              "        5.60736768e-02, -1.73052773e-02,  2.13760901e-02,  1.90495849e-02,\n",
              "        1.15381837e-01,  1.17094576e-01, -3.66500020e-02,  9.24294591e-02,\n",
              "        2.02331841e-02, -9.78080556e-02,  2.07147785e-02, -6.96665347e-02,\n",
              "        2.14443430e-01, -1.89673398e-02,  3.13308500e-02, -4.84682918e-02,\n",
              "       -8.45498443e-02, -7.57989213e-02, -6.06835075e-03, -1.81145202e-02,\n",
              "       -3.50242108e-02,  4.39617336e-02,  4.47223410e-02,  1.99307948e-01,\n",
              "        1.56103343e-01, -1.87523001e-05,  5.18504828e-02, -4.92955707e-02,\n",
              "       -5.48650399e-02, -9.52501688e-03,  2.60283090e-02, -4.18193415e-02,\n",
              "        1.01221651e-01, -5.29354066e-02, -1.43173039e-01,  1.58278905e-02,\n",
              "        1.56207122e-02, -4.22855467e-02, -3.31051797e-02,  5.77266095e-03,\n",
              "        1.39527656e-02, -3.80837619e-02, -5.99883869e-02,  5.36036864e-02],\n",
              "      dtype=float32)"
            ]
          },
          "metadata": {
            "tags": []
          },
          "execution_count": 14
        }
      ]
    },
    {
      "cell_type": "markdown",
      "metadata": {
        "id": "TMcMA2gxYApy",
        "colab_type": "text"
      },
      "source": [
        "#### sentance splitting in document"
      ]
    },
    {
      "cell_type": "code",
      "metadata": {
        "id": "c-H4alHkYApy",
        "colab_type": "code",
        "outputId": "1502fd7f-780e-45c6-ef98-79f26c2c5715",
        "colab": {}
      },
      "source": [
        "[sents for sents in doc.sents]"
      ],
      "execution_count": 0,
      "outputs": [
        {
          "output_type": "execute_result",
          "data": {
            "text/plain": [
              "[RIO DE JANEIRO —,\n",
              " The Supreme Court on Thursday allowed Netflix to continue showing a short film depicting Jesus as a gay man, reversing a lower court’s ruling that the film be taken down because it did “irreparable damage” to the nation’s Christians.,\n",
              " The film, a satire called The First Temptation of Christ, ignited controversy among conservative politicians and clergy when it was released in December.,\n",
              " The uproar escalated when, on Christmas Eve, the production company responsible for the film was the target of a firebomb attack.,\n",
              " This week’s rulings are yet another flash point in the country’s culture wars, which have grown increasingly bitter since the election of far-right President Jair Bolsonaro in 2018.In striking down the lower court’s ban, the president of Brazil’s Supreme Court ruled Thursday that freedom of expression was a fundamental right in a democracy.,\n",
              " “A piece of satire is not going to undermine the values of Christian faith, which has been around for more than 2,000 years,” the court’s president, Justice José Antonio Dias Toffoli, wrote.,\n",
              " Netflix had appealed the lower court ruling, saying that it would fight for artistic expression, “which goes to the heart of great storytelling.”,\n",
              " On Tuesday, a judge in Rio de Janeiro had banned the film in response to a lawsuit filed by Centro Dom Bosco, a Brazilian Christian organization, which has denounced the film as blasphemous.,\n",
              " The judge, Benedicto Abicair, concluded that keeping the film online was “more likely to cause grave and irreparable damage” than removing it from the public domain.,\n",
              " He said the ruling would benefit Brazil’s “majority Christian” society.,\n",
              " Brazil, home to more Catholics than any other country in the world, also has a fast-growing conservative evangelical population that has gained more political clout in recent years.,\n",
              " Many had celebrated the lower court’s ban.,\n",
              " Damares Alves, an evangelical pastor who serves as minister for Human Rights, Families and Women, lauded the lower court for a “beautiful and timely decision!”But David Miranda, an openly gay federal lawmaker, called the decision an “attack on democracy” in the Bolsonaro era.,\n",
              " “We can’t forget that this attack is rooted in homophobia,” he said in a text message.,\n",
              " “We’ll resist.,\n",
              " ”On,\n",
              " Christmas Eve, masked assailants lobbed Molotov cocktails at Porta dos Fundos, the company that produced the film.,\n",
              " No one was injured, and the firebombs did little damage.,\n",
              " But a video posted online took credit for the attack and made clear that it was an effort to silence the filmmakers.,\n",
              " Law enforcement officials have identified one of the men suspected of being involved in the firebombing.,\n",
              " The suspect, Eduardo Fauzi, a 41-year-old resident of Rio de Janeiro, flew to Moscow shortly after the attack.,\n",
              " In an interview with Época magazine, Mr. Fauzi said that while the attack was certainly a crime, he felt it was “perfectly moral” since the justice system did not stand in the way of the film’s dissemination, which he called a “monstrous crime.”]"
            ]
          },
          "metadata": {
            "tags": []
          },
          "execution_count": 15
        }
      ]
    },
    {
      "cell_type": "markdown",
      "metadata": {
        "id": "hqJLUSWXYAp0",
        "colab_type": "text"
      },
      "source": [
        "#### document similarity"
      ]
    },
    {
      "cell_type": "code",
      "metadata": {
        "id": "5zn-JKelYAp0",
        "colab_type": "code",
        "outputId": "f8c98ae3-2e1a-40e6-a57c-28f558dc343d",
        "colab": {}
      },
      "source": [
        "doc_2 = df.spacy[1]\n",
        "doc.similarity(doc_2)"
      ],
      "execution_count": 0,
      "outputs": [
        {
          "output_type": "execute_result",
          "data": {
            "text/plain": [
              "0.9804347609162833"
            ]
          },
          "metadata": {
            "tags": []
          },
          "execution_count": 16
        }
      ]
    },
    {
      "cell_type": "code",
      "metadata": {
        "id": "J2U1HwXEYAp2",
        "colab_type": "code",
        "colab": {}
      },
      "source": [
        ""
      ],
      "execution_count": 0,
      "outputs": []
    }
  ]
}